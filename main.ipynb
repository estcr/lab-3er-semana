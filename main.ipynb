{
 "cells": [
  {
   "cell_type": "markdown",
   "metadata": {},
   "source": [
    "# Análisis de Precios de Zapatillas de Crossfit\n",
    "\n",
    "Este cuaderno tiene como objetivo principal ejecutar el análisis de precios de zapatillas de Crossfit utilizando las funciones previamente desarrolladas. \n",
    "\n",
    "A través de este análisis, se busca:\n",
    "- Identificar las variaciones en los precios normales y en oferta.\n",
    "- Analizar las diferencias entre marcas, colores y modelos.\n",
    "- Generar visualizaciones para extraer conclusiones clave sobre los patrones de precios y promociones.\n",
    "\n",
    "El análisis fue realizado mediante un conjunto de funciones para la limpieza y visualización de datos, asegurando que los datos sean procesados de manera eficiente y reproducible.\n"
   ]
  },
  {
   "cell_type": "markdown",
   "metadata": {},
   "source": [
    "## Resumen del Uso de Funciones\n",
    "\n",
    "En este cuaderno, utilizamos dos funciones principales:\n",
    "\n",
    "1. **Función de Limpieza de Datos**:\n",
    "   - Realiza la transformación de los datos obtenidos por web scraping.\n",
    "   - Estandariza las columnas clave, como precios, fechas y colores principales.\n",
    "   - Calcula métricas adicionales, como el porcentaje de descuento.\n",
    "   - Prepara el DataFrame final para su análisis.\n",
    "\n",
    "2. **Función de Visualización de Gráficos**:\n",
    "   - Genera gráficos interactivos para explorar los datos.\n",
    "   - Incluye gráficos de barras, líneas y dispersión que destacan:\n",
    "     - La variación de precios por marca y modelo.\n",
    "     - Los colores con mayores descuentos.\n",
    "     - La distribución de precios a lo largo del tiempo.\n",
    "\n",
    "Estas funciones encapsulan todo el proceso de análisis, desde la limpieza inicial hasta la visualización final, lo que facilita la reproducción de este análisis con nuevos datos.\n"
   ]
  },
  {
   "cell_type": "code",
   "execution_count": 1,
   "metadata": {},
   "outputs": [],
   "source": [
    "import pandas as pd\n",
    "import funciones as f\n",
    "import graficos as g\n",
    "\n",
    "df=pd.read_csv(r\"zalando\\data\\datos_aleatorios_2023.csv\")\n",
    "\n",
    "df=f.funcion_principal(df)"
   ]
  },
  {
   "cell_type": "markdown",
   "metadata": {},
   "source": [
    "## Resultados y Conclusiones\n",
    "\n",
    "A través de los gráficos generados, se destacan los siguientes puntos clave:\n",
    "\n",
    "1. **Variación de Precios por Marca**:\n",
    "   - Las marcas muestran diferencias significativas en sus rangos de precios.\n",
    "   - En los gráficos de barras, se identificaron los meses más baratos (verde) y más caros (rojo) para cada marca.\n",
    "\n",
    "2. **Análisis de los Modelos Más Populares**:\n",
    "   - Los gráficos de líneas muestran fluctuaciones en los precios de los tres modelos más importantes.\n",
    "   - Esto sugiere que las campañas de marketing y promociones tienen un impacto directo en los precios.\n",
    "\n",
    "3. **Relación entre Color y Precio**:\n",
    "   - Los gráficos de dispersión muestran que ciertos colores pueden influir en el precio final.\n",
    "   - Los descuentos no siempre son uniformes entre los diferentes colores de un mismo modelo.\n",
    "\n",
    "4. **Distribución de Precios**:\n",
    "   - Las visualizaciones revelan una amplia variabilidad en los precios de diferentes marcas, lo que resalta la importancia de segmentar las ofertas según el mercado objetivo.\n",
    "\n",
    "### Próximos Pasos\n",
    "- Automatizar la obtención de datos en tiempo real mediante web scraping.\n",
    "- Implementar un modelo predictivo para identificar las fechas más probables de descuentos.\n",
    "- Diseñar una API que notifique a los consumidores sobre posibles ofertas.\n"
   ]
  },
  {
   "cell_type": "code",
   "execution_count": 2,
   "metadata": {},
   "outputs": [
    {
     "data": {
      "application/vnd.plotly.v1+json": {
       "config": {
        "plotlyServerURL": "https://plot.ly"
       },
       "data": [
        {
         "alignmentgroup": "True",
         "hovertemplate": "Marca=%{x}<br>Precio Actual=%{y}<extra></extra>",
         "legendgroup": "Under Armour",
         "marker": {
          "color": "#636efa"
         },
         "name": "Under Armour",
         "notched": false,
         "offsetgroup": "Under Armour",
         "orientation": "v",
         "showlegend": true,
         "type": "box",
         "x": [
          "Under Armour",
          "Under Armour",
          "Under Armour",
          "Under Armour",
          "Under Armour",
          "Under Armour",
          "Under Armour",
          "Under Armour",
          "Under Armour",
          "Under Armour",
          "Under Armour",
          "Under Armour",
          "Under Armour",
          "Under Armour",
          "Under Armour",
          "Under Armour",
          "Under Armour",
          "Under Armour",
          "Under Armour",
          "Under Armour",
          "Under Armour",
          "Under Armour",
          "Under Armour",
          "Under Armour",
          "Under Armour",
          "Under Armour",
          "Under Armour",
          "Under Armour",
          "Under Armour",
          "Under Armour",
          "Under Armour",
          "Under Armour",
          "Under Armour",
          "Under Armour",
          "Under Armour",
          "Under Armour",
          "Under Armour",
          "Under Armour",
          "Under Armour",
          "Under Armour",
          "Under Armour",
          "Under Armour",
          "Under Armour",
          "Under Armour",
          "Under Armour",
          "Under Armour",
          "Under Armour",
          "Under Armour",
          "Under Armour",
          "Under Armour",
          "Under Armour",
          "Under Armour",
          "Under Armour",
          "Under Armour",
          "Under Armour",
          "Under Armour",
          "Under Armour",
          "Under Armour",
          "Under Armour",
          "Under Armour",
          "Under Armour",
          "Under Armour",
          "Under Armour",
          "Under Armour",
          "Under Armour",
          "Under Armour",
          "Under Armour",
          "Under Armour",
          "Under Armour",
          "Under Armour",
          "Under Armour",
          "Under Armour",
          "Under Armour",
          "Under Armour",
          "Under Armour",
          "Under Armour",
          "Under Armour"
         ],
         "x0": " ",
         "xaxis": "x",
         "y": [
          142.92,
          136.82,
          51.05,
          51.67,
          57.77,
          140.03,
          60.12,
          114.47,
          110.78,
          59.91,
          112.81,
          139.71,
          118.84,
          52.12,
          117.08,
          118.52,
          108.32,
          56.86,
          52.2,
          126.74,
          53.78,
          53.63,
          137.32,
          114.55,
          122.67,
          60.83,
          139.42,
          130.59,
          125.98,
          54.28,
          53.48,
          108.05,
          133.52,
          50.76,
          58.08,
          61.09,
          146.54,
          107.13,
          151.26,
          119.79,
          58.53,
          114.69,
          137.94,
          57.22,
          127.88,
          121.56,
          114.2,
          60.77,
          113.19,
          108.53,
          142.54,
          114.46,
          105.12,
          122.91,
          112.2,
          123.74,
          113.02,
          117.57,
          112.01,
          51.25,
          121.32,
          115.81,
          51.65,
          61.46,
          135.34,
          55.94,
          151.39,
          51.48,
          113.46,
          121.77,
          116.74,
          115.68,
          120.98,
          57.52,
          122.87,
          132.24,
          55.75
         ],
         "y0": " ",
         "yaxis": "y"
        },
        {
         "alignmentgroup": "True",
         "hovertemplate": "Marca=%{x}<br>Precio Actual=%{y}<extra></extra>",
         "legendgroup": "Nike",
         "marker": {
          "color": "#EF553B"
         },
         "name": "Nike",
         "notched": false,
         "offsetgroup": "Nike",
         "orientation": "v",
         "showlegend": true,
         "type": "box",
         "x": [
          "Nike",
          "Nike",
          "Nike",
          "Nike",
          "Nike",
          "Nike",
          "Nike",
          "Nike",
          "Nike",
          "Nike",
          "Nike",
          "Nike",
          "Nike",
          "Nike",
          "Nike",
          "Nike",
          "Nike",
          "Nike",
          "Nike",
          "Nike",
          "Nike",
          "Nike",
          "Nike",
          "Nike",
          "Nike",
          "Nike",
          "Nike",
          "Nike",
          "Nike",
          "Nike",
          "Nike",
          "Nike",
          "Nike",
          "Nike",
          "Nike",
          "Nike",
          "Nike",
          "Nike",
          "Nike",
          "Nike",
          "Nike",
          "Nike",
          "Nike",
          "Nike",
          "Nike",
          "Nike",
          "Nike",
          "Nike",
          "Nike",
          "Nike",
          "Nike",
          "Nike",
          "Nike",
          "Nike",
          "Nike",
          "Nike",
          "Nike",
          "Nike",
          "Nike",
          "Nike",
          "Nike",
          "Nike",
          "Nike",
          "Nike",
          "Nike",
          "Nike",
          "Nike",
          "Nike",
          "Nike",
          "Nike",
          "Nike",
          "Nike",
          "Nike",
          "Nike",
          "Nike",
          "Nike",
          "Nike",
          "Nike",
          "Nike",
          "Nike",
          "Nike",
          "Nike",
          "Nike",
          "Nike",
          "Nike",
          "Nike",
          "Nike",
          "Nike",
          "Nike",
          "Nike",
          "Nike",
          "Nike",
          "Nike",
          "Nike",
          "Nike",
          "Nike",
          "Nike",
          "Nike",
          "Nike",
          "Nike",
          "Nike",
          "Nike",
          "Nike",
          "Nike",
          "Nike",
          "Nike",
          "Nike",
          "Nike",
          "Nike",
          "Nike",
          "Nike",
          "Nike",
          "Nike",
          "Nike",
          "Nike",
          "Nike",
          "Nike",
          "Nike",
          "Nike",
          "Nike",
          "Nike",
          "Nike",
          "Nike",
          "Nike",
          "Nike",
          "Nike",
          "Nike",
          "Nike",
          "Nike",
          "Nike",
          "Nike",
          "Nike",
          "Nike",
          "Nike",
          "Nike",
          "Nike",
          "Nike",
          "Nike",
          "Nike",
          "Nike",
          "Nike",
          "Nike",
          "Nike",
          "Nike",
          "Nike",
          "Nike",
          "Nike",
          "Nike",
          "Nike",
          "Nike",
          "Nike",
          "Nike",
          "Nike",
          "Nike",
          "Nike",
          "Nike",
          "Nike",
          "Nike",
          "Nike",
          "Nike",
          "Nike",
          "Nike",
          "Nike",
          "Nike",
          "Nike",
          "Nike",
          "Nike",
          "Nike",
          "Nike",
          "Nike",
          "Nike",
          "Nike",
          "Nike",
          "Nike",
          "Nike",
          "Nike",
          "Nike",
          "Nike",
          "Nike",
          "Nike",
          "Nike",
          "Nike",
          "Nike",
          "Nike",
          "Nike",
          "Nike",
          "Nike",
          "Nike",
          "Nike",
          "Nike",
          "Nike",
          "Nike",
          "Nike",
          "Nike",
          "Nike",
          "Nike",
          "Nike",
          "Nike",
          "Nike",
          "Nike",
          "Nike",
          "Nike",
          "Nike",
          "Nike",
          "Nike",
          "Nike",
          "Nike",
          "Nike",
          "Nike",
          "Nike",
          "Nike",
          "Nike",
          "Nike",
          "Nike",
          "Nike",
          "Nike",
          "Nike",
          "Nike",
          "Nike",
          "Nike",
          "Nike",
          "Nike",
          "Nike",
          "Nike",
          "Nike",
          "Nike",
          "Nike",
          "Nike",
          "Nike",
          "Nike",
          "Nike",
          "Nike",
          "Nike",
          "Nike",
          "Nike",
          "Nike",
          "Nike",
          "Nike",
          "Nike",
          "Nike",
          "Nike",
          "Nike",
          "Nike",
          "Nike",
          "Nike",
          "Nike",
          "Nike",
          "Nike",
          "Nike",
          "Nike",
          "Nike",
          "Nike",
          "Nike",
          "Nike",
          "Nike",
          "Nike",
          "Nike",
          "Nike",
          "Nike",
          "Nike",
          "Nike",
          "Nike",
          "Nike",
          "Nike",
          "Nike",
          "Nike",
          "Nike",
          "Nike",
          "Nike",
          "Nike",
          "Nike",
          "Nike",
          "Nike",
          "Nike",
          "Nike",
          "Nike",
          "Nike",
          "Nike",
          "Nike",
          "Nike",
          "Nike",
          "Nike",
          "Nike",
          "Nike",
          "Nike",
          "Nike",
          "Nike",
          "Nike",
          "Nike",
          "Nike",
          "Nike",
          "Nike",
          "Nike",
          "Nike",
          "Nike",
          "Nike",
          "Nike",
          "Nike",
          "Nike",
          "Nike",
          "Nike",
          "Nike",
          "Nike",
          "Nike",
          "Nike",
          "Nike",
          "Nike",
          "Nike",
          "Nike",
          "Nike",
          "Nike",
          "Nike",
          "Nike",
          "Nike",
          "Nike",
          "Nike",
          "Nike",
          "Nike",
          "Nike",
          "Nike",
          "Nike",
          "Nike",
          "Nike",
          "Nike",
          "Nike",
          "Nike",
          "Nike",
          "Nike",
          "Nike",
          "Nike",
          "Nike",
          "Nike",
          "Nike",
          "Nike",
          "Nike",
          "Nike",
          "Nike",
          "Nike",
          "Nike",
          "Nike",
          "Nike",
          "Nike",
          "Nike",
          "Nike",
          "Nike",
          "Nike",
          "Nike",
          "Nike",
          "Nike",
          "Nike",
          "Nike",
          "Nike",
          "Nike",
          "Nike",
          "Nike",
          "Nike",
          "Nike",
          "Nike",
          "Nike",
          "Nike",
          "Nike",
          "Nike",
          "Nike",
          "Nike",
          "Nike",
          "Nike",
          "Nike",
          "Nike",
          "Nike",
          "Nike",
          "Nike",
          "Nike",
          "Nike",
          "Nike",
          "Nike",
          "Nike",
          "Nike",
          "Nike",
          "Nike",
          "Nike",
          "Nike",
          "Nike",
          "Nike",
          "Nike",
          "Nike",
          "Nike",
          "Nike",
          "Nike",
          "Nike",
          "Nike",
          "Nike",
          "Nike",
          "Nike",
          "Nike",
          "Nike",
          "Nike",
          "Nike"
         ],
         "x0": " ",
         "xaxis": "x",
         "y": [
          55.37,
          108.16,
          60.3,
          72.76,
          163.96,
          152.69,
          131.98,
          87.5,
          132.7,
          37.39,
          77.86,
          118.15,
          150.75,
          63.55,
          130.59,
          129.29,
          119.07,
          128.45,
          127.63,
          55.98,
          107.12,
          78.57,
          56.65,
          109.9,
          68.65,
          102.43,
          96.59,
          112.99,
          113.88,
          58.44,
          84.41,
          76.67,
          104.12,
          90.79,
          122.61,
          127.21,
          86.82,
          84,
          79.9,
          88.89,
          118.06,
          119.02,
          101.66,
          112.91,
          81,
          79.54,
          75.68,
          126.38,
          65.36,
          106.37,
          59.27,
          80.13,
          170.37,
          162.63,
          113.79,
          122.11,
          130.52,
          102.43,
          55.13,
          122.91,
          114.9,
          112.9,
          110.12,
          74.62,
          120.53,
          94.18,
          130.2,
          96.81,
          136.16,
          120.09,
          56.59,
          59.41,
          128.9,
          114.14,
          78.1,
          54.69,
          123.81,
          109.01,
          102.96,
          65.75,
          87.99,
          134.49,
          95.91,
          83.13,
          55.03,
          113.26,
          130.22,
          100.46,
          132.47,
          129.21,
          38.5,
          61.34,
          57.53,
          144.19,
          82.61,
          102.5,
          87.15,
          114.78,
          42.66,
          59.71,
          79.64,
          113.05,
          146.27,
          115.28,
          77.74,
          129.62,
          132.99,
          133.13,
          59.95,
          43.81,
          85.12,
          77.04,
          129.83,
          105.91,
          105.68,
          80.5,
          43.77,
          144.96,
          54.72,
          109.19,
          92.07,
          104.87,
          55.74,
          79.48,
          97.99,
          77.73,
          140.68,
          42.75,
          120.78,
          126.54,
          60.44,
          74.33,
          68.52,
          76.38,
          81.76,
          73.14,
          57.11,
          113.27,
          132.25,
          84.93,
          124.55,
          124.58,
          112.8,
          59.14,
          84.89,
          124.25,
          114.49,
          136.93,
          126.59,
          109.2,
          123.39,
          68.54,
          62.75,
          75.57,
          54.49,
          109.91,
          104.62,
          81.82,
          126.72,
          102.27,
          137.44,
          146.1,
          58.27,
          119.6,
          97.87,
          101.52,
          122.71,
          84,
          80.16,
          68.77,
          78.07,
          59.25,
          82.78,
          85.12,
          81.25,
          129.39,
          121.43,
          76.18,
          142.85,
          62.45,
          43.22,
          166.78,
          61.72,
          92.09,
          59.98,
          104.26,
          101.58,
          105.6,
          133.99,
          68.36,
          109.79,
          65.67,
          86.57,
          60.14,
          115.1,
          109.52,
          60.25,
          52.16,
          87.87,
          64.86,
          80.81,
          113.22,
          106.11,
          122.77,
          60.65,
          109.93,
          39.86,
          111.08,
          127.85,
          109.59,
          122.25,
          122.5,
          138.87,
          85.79,
          131.5,
          64.24,
          65.31,
          76.89,
          58.3,
          79.16,
          113.21,
          129.9,
          114.94,
          73.63,
          76.82,
          107.25,
          83.27,
          104.41,
          130.34,
          94.71,
          118.9,
          64.14,
          116.6,
          76.54,
          93.65,
          118.94,
          128.17,
          126.07,
          57.92,
          109.98,
          122.69,
          119.8,
          120.37,
          110.21,
          83.54,
          108.59,
          165.01,
          103.8,
          78.79,
          106.27,
          114.97,
          99.77,
          117.35,
          97.19,
          152.17,
          68.88,
          147.51,
          115.85,
          110.37,
          107.84,
          105.49,
          57.41,
          108.1,
          102.79,
          127.78,
          112.08,
          59.53,
          103.8,
          132.17,
          133.98,
          113.21,
          126.28,
          106.48,
          82.08,
          50.42,
          97.13,
          58.15,
          61.37,
          128.65,
          107.84,
          60.55,
          120.12,
          113.28,
          110.77,
          94.53,
          104.11,
          142.52,
          91.35,
          130.02,
          60.68,
          146.5,
          146.47,
          131.42,
          112.07,
          95.21,
          62.31,
          76.99,
          109.49,
          100.56,
          106.04,
          79.92,
          124.03,
          108.24,
          64.83,
          41.91,
          52.75,
          63.96,
          128.78,
          69.29,
          128.85,
          58.12,
          87.21,
          144.11,
          40.76,
          142.91,
          129.39,
          71.21,
          140.63,
          85.25,
          152.4,
          99.35,
          113.55,
          102.53,
          81.47,
          101.96,
          121.74,
          131.14,
          121.22,
          40.88,
          108.83,
          129.38,
          116.52,
          134.79,
          110.37,
          152.8,
          99.11,
          94.35,
          111.04,
          107.53,
          85.25,
          145.59,
          99.78,
          63.8,
          130.44,
          128.02,
          99.14,
          43.13,
          94.5,
          112.49,
          104,
          117.37,
          74.27,
          59.31,
          115.16,
          57.36,
          159.39,
          73.73,
          75.41,
          121.15,
          83.5,
          108.57,
          95.29,
          102.33,
          114.95,
          105.55,
          107.87,
          76.83,
          107.06,
          61.86,
          88.7,
          78.07,
          117.06,
          115.19,
          82.36,
          68.7,
          118.59,
          115.08,
          167.95,
          113.58,
          104.86,
          91.94,
          164.35,
          104.59,
          114.63,
          139.49,
          113.85,
          117.14,
          65.37,
          106.29,
          139.65,
          111.93,
          102.56,
          104.06,
          68.53,
          108.56,
          43.46,
          78.25
         ],
         "y0": " ",
         "yaxis": "y"
        },
        {
         "alignmentgroup": "True",
         "hovertemplate": "Marca=%{x}<br>Precio Actual=%{y}<extra></extra>",
         "legendgroup": "Tyr",
         "marker": {
          "color": "#00cc96"
         },
         "name": "Tyr",
         "notched": false,
         "offsetgroup": "Tyr",
         "orientation": "v",
         "showlegend": true,
         "type": "box",
         "x": [
          "Tyr",
          "Tyr",
          "Tyr",
          "Tyr",
          "Tyr",
          "Tyr",
          "Tyr",
          "Tyr",
          "Tyr",
          "Tyr",
          "Tyr",
          "Tyr",
          "Tyr",
          "Tyr",
          "Tyr",
          "Tyr",
          "Tyr",
          "Tyr",
          "Tyr",
          "Tyr",
          "Tyr",
          "Tyr",
          "Tyr",
          "Tyr",
          "Tyr",
          "Tyr",
          "Tyr",
          "Tyr",
          "Tyr",
          "Tyr",
          "Tyr",
          "Tyr",
          "Tyr",
          "Tyr",
          "Tyr",
          "Tyr",
          "Tyr",
          "Tyr"
         ],
         "x0": " ",
         "xaxis": "x",
         "y": [
          61.38,
          165.92,
          180.95,
          167.56,
          70.46,
          157.49,
          165.66,
          148.89,
          66.78,
          65.44,
          148.86,
          161.11,
          68.49,
          68.44,
          168.12,
          69.06,
          145.15,
          73.24,
          155.51,
          164.96,
          67.11,
          63.23,
          170.02,
          161.21,
          64.02,
          170.99,
          143.98,
          162.42,
          70.28,
          159.9,
          176.57,
          68.76,
          169.28,
          162.71,
          155.44,
          154.69,
          163.44,
          155.62
         ],
         "y0": " ",
         "yaxis": "y"
        },
        {
         "alignmentgroup": "True",
         "hovertemplate": "Marca=%{x}<br>Precio Actual=%{y}<extra></extra>",
         "legendgroup": "Reebok",
         "marker": {
          "color": "#ab63fa"
         },
         "name": "Reebok",
         "notched": false,
         "offsetgroup": "Reebok",
         "orientation": "v",
         "showlegend": true,
         "type": "box",
         "x": [
          "Reebok",
          "Reebok",
          "Reebok",
          "Reebok",
          "Reebok",
          "Reebok",
          "Reebok",
          "Reebok",
          "Reebok",
          "Reebok",
          "Reebok",
          "Reebok",
          "Reebok",
          "Reebok",
          "Reebok",
          "Reebok",
          "Reebok",
          "Reebok",
          "Reebok",
          "Reebok",
          "Reebok",
          "Reebok",
          "Reebok",
          "Reebok",
          "Reebok",
          "Reebok",
          "Reebok",
          "Reebok",
          "Reebok",
          "Reebok",
          "Reebok",
          "Reebok",
          "Reebok",
          "Reebok",
          "Reebok",
          "Reebok",
          "Reebok",
          "Reebok",
          "Reebok",
          "Reebok",
          "Reebok",
          "Reebok",
          "Reebok",
          "Reebok",
          "Reebok",
          "Reebok",
          "Reebok",
          "Reebok",
          "Reebok",
          "Reebok",
          "Reebok",
          "Reebok",
          "Reebok",
          "Reebok",
          "Reebok",
          "Reebok",
          "Reebok",
          "Reebok",
          "Reebok",
          "Reebok",
          "Reebok",
          "Reebok",
          "Reebok",
          "Reebok",
          "Reebok",
          "Reebok",
          "Reebok",
          "Reebok",
          "Reebok",
          "Reebok",
          "Reebok",
          "Reebok",
          "Reebok",
          "Reebok",
          "Reebok",
          "Reebok",
          "Reebok",
          "Reebok",
          "Reebok",
          "Reebok",
          "Reebok",
          "Reebok",
          "Reebok",
          "Reebok",
          "Reebok",
          "Reebok",
          "Reebok",
          "Reebok",
          "Reebok",
          "Reebok",
          "Reebok",
          "Reebok",
          "Reebok",
          "Reebok",
          "Reebok",
          "Reebok",
          "Reebok",
          "Reebok",
          "Reebok",
          "Reebok",
          "Reebok",
          "Reebok",
          "Reebok",
          "Reebok",
          "Reebok",
          "Reebok",
          "Reebok",
          "Reebok",
          "Reebok",
          "Reebok",
          "Reebok",
          "Reebok",
          "Reebok",
          "Reebok",
          "Reebok",
          "Reebok",
          "Reebok",
          "Reebok",
          "Reebok",
          "Reebok",
          "Reebok",
          "Reebok",
          "Reebok",
          "Reebok",
          "Reebok",
          "Reebok",
          "Reebok",
          "Reebok",
          "Reebok",
          "Reebok",
          "Reebok",
          "Reebok",
          "Reebok",
          "Reebok",
          "Reebok",
          "Reebok",
          "Reebok",
          "Reebok",
          "Reebok",
          "Reebok",
          "Reebok",
          "Reebok",
          "Reebok",
          "Reebok",
          "Reebok",
          "Reebok",
          "Reebok",
          "Reebok",
          "Reebok",
          "Reebok",
          "Reebok",
          "Reebok",
          "Reebok",
          "Reebok",
          "Reebok",
          "Reebok",
          "Reebok",
          "Reebok",
          "Reebok",
          "Reebok",
          "Reebok",
          "Reebok",
          "Reebok",
          "Reebok",
          "Reebok",
          "Reebok",
          "Reebok",
          "Reebok",
          "Reebok",
          "Reebok",
          "Reebok",
          "Reebok",
          "Reebok",
          "Reebok",
          "Reebok",
          "Reebok",
          "Reebok",
          "Reebok",
          "Reebok",
          "Reebok",
          "Reebok",
          "Reebok",
          "Reebok",
          "Reebok",
          "Reebok",
          "Reebok",
          "Reebok",
          "Reebok",
          "Reebok",
          "Reebok",
          "Reebok",
          "Reebok",
          "Reebok",
          "Reebok",
          "Reebok",
          "Reebok",
          "Reebok",
          "Reebok",
          "Reebok",
          "Reebok",
          "Reebok",
          "Reebok",
          "Reebok",
          "Reebok",
          "Reebok",
          "Reebok",
          "Reebok",
          "Reebok",
          "Reebok",
          "Reebok",
          "Reebok",
          "Reebok",
          "Reebok",
          "Reebok",
          "Reebok",
          "Reebok",
          "Reebok",
          "Reebok",
          "Reebok",
          "Reebok",
          "Reebok",
          "Reebok",
          "Reebok",
          "Reebok",
          "Reebok",
          "Reebok",
          "Reebok",
          "Reebok",
          "Reebok",
          "Reebok",
          "Reebok",
          "Reebok",
          "Reebok",
          "Reebok",
          "Reebok",
          "Reebok",
          "Reebok",
          "Reebok",
          "Reebok",
          "Reebok",
          "Reebok",
          "Reebok",
          "Reebok",
          "Reebok",
          "Reebok",
          "Reebok",
          "Reebok",
          "Reebok",
          "Reebok",
          "Reebok",
          "Reebok",
          "Reebok",
          "Reebok",
          "Reebok",
          "Reebok",
          "Reebok",
          "Reebok",
          "Reebok",
          "Reebok",
          "Reebok",
          "Reebok",
          "Reebok",
          "Reebok",
          "Reebok",
          "Reebok",
          "Reebok",
          "Reebok",
          "Reebok",
          "Reebok",
          "Reebok",
          "Reebok",
          "Reebok",
          "Reebok",
          "Reebok",
          "Reebok",
          "Reebok",
          "Reebok",
          "Reebok",
          "Reebok",
          "Reebok",
          "Reebok",
          "Reebok",
          "Reebok",
          "Reebok",
          "Reebok",
          "Reebok",
          "Reebok",
          "Reebok",
          "Reebok",
          "Reebok",
          "Reebok",
          "Reebok",
          "Reebok",
          "Reebok",
          "Reebok",
          "Reebok",
          "Reebok",
          "Reebok",
          "Reebok",
          "Reebok",
          "Reebok",
          "Reebok",
          "Reebok",
          "Reebok",
          "Reebok",
          "Reebok",
          "Reebok",
          "Reebok",
          "Reebok",
          "Reebok",
          "Reebok",
          "Reebok",
          "Reebok",
          "Reebok",
          "Reebok",
          "Reebok",
          "Reebok",
          "Reebok",
          "Reebok",
          "Reebok",
          "Reebok",
          "Reebok",
          "Reebok",
          "Reebok",
          "Reebok",
          "Reebok",
          "Reebok",
          "Reebok",
          "Reebok",
          "Reebok",
          "Reebok",
          "Reebok",
          "Reebok",
          "Reebok",
          "Reebok",
          "Reebok",
          "Reebok",
          "Reebok",
          "Reebok",
          "Reebok",
          "Reebok",
          "Reebok",
          "Reebok",
          "Reebok",
          "Reebok",
          "Reebok",
          "Reebok",
          "Reebok",
          "Reebok",
          "Reebok",
          "Reebok",
          "Reebok",
          "Reebok",
          "Reebok",
          "Reebok",
          "Reebok",
          "Reebok",
          "Reebok",
          "Reebok",
          "Reebok",
          "Reebok",
          "Reebok",
          "Reebok",
          "Reebok",
          "Reebok"
         ],
         "x0": " ",
         "xaxis": "x",
         "y": [
          88.78,
          75.41,
          116.6,
          100.62,
          58.46,
          57.74,
          89.25,
          74.84,
          84.18,
          132.37,
          120.45,
          144.14,
          62.78,
          80.4,
          53.33,
          63.37,
          80.49,
          77.8,
          75.75,
          77.82,
          122.04,
          122.66,
          85.6,
          52.13,
          56.55,
          115.85,
          79.93,
          130.61,
          134.52,
          110.87,
          142.69,
          102.9,
          78.36,
          67.85,
          145.58,
          67.73,
          117.59,
          87.84,
          167.09,
          143.8,
          84.44,
          95.52,
          108.18,
          80.66,
          67.12,
          112.39,
          144.69,
          68.13,
          83.77,
          59.27,
          77.43,
          141.38,
          82.17,
          160.05,
          69.19,
          105.92,
          105.28,
          78.81,
          91.11,
          79.53,
          82.58,
          133.94,
          53.36,
          120.41,
          72.69,
          59.9,
          121.26,
          111.28,
          98.26,
          92.6,
          116.96,
          85.05,
          156.35,
          86.76,
          102.58,
          90.68,
          66.46,
          56.56,
          116.7,
          88.85,
          157.33,
          130.13,
          109.86,
          167.68,
          81,
          86.8,
          91.09,
          66.87,
          51.68,
          127.42,
          135.98,
          91.52,
          134.05,
          66.93,
          129.23,
          107.19,
          62.43,
          78.65,
          119.36,
          118.51,
          102.48,
          130.26,
          61.17,
          135.15,
          71.04,
          64.91,
          87.02,
          87.72,
          88.36,
          134.27,
          136.31,
          59.33,
          77.43,
          80.74,
          113.35,
          86.21,
          109.32,
          58.66,
          132.83,
          130.91,
          67.71,
          87.77,
          59.75,
          111.85,
          86.15,
          60.67,
          61.38,
          121.23,
          67.51,
          69.57,
          82.84,
          93.35,
          147.57,
          119.61,
          112.15,
          64.01,
          157.43,
          79.03,
          57.81,
          133.05,
          149.09,
          103.85,
          103.68,
          113.16,
          143.1,
          132.67,
          84.13,
          115.73,
          114.98,
          83.89,
          114.95,
          132.25,
          142.85,
          130.46,
          126.61,
          59.73,
          133.53,
          125.23,
          123.17,
          60.4,
          68.41,
          57.39,
          70.51,
          100.15,
          118.13,
          113.08,
          130.19,
          133.16,
          84.65,
          142.85,
          101.77,
          81.11,
          107.2,
          50.01,
          86.84,
          126.52,
          94.2,
          119.66,
          84.84,
          143.63,
          99.23,
          83.51,
          81.1,
          124.12,
          108.96,
          89.2,
          143.64,
          168.36,
          67.18,
          103.62,
          106.54,
          113.83,
          57.53,
          66.58,
          57.41,
          121.46,
          109.46,
          101.88,
          112.7,
          116.79,
          64.4,
          74,
          67.41,
          124.31,
          83.66,
          147.16,
          137.77,
          106.83,
          164.35,
          68.85,
          56.2,
          60.81,
          114.23,
          111.07,
          84.91,
          89.52,
          115.58,
          86.7,
          76.87,
          69.59,
          116.04,
          136.25,
          60.46,
          67.52,
          60.35,
          53.21,
          117.32,
          68.86,
          66.48,
          52.77,
          75.82,
          167.88,
          116.39,
          54.71,
          114.83,
          102.97,
          88.52,
          116.44,
          56.68,
          100.84,
          88.49,
          96.26,
          63.83,
          129.21,
          66.57,
          136.27,
          102.13,
          77.88,
          57.56,
          90.28,
          118.78,
          75.87,
          119.77,
          107.85,
          88.99,
          75.89,
          118.04,
          59.91,
          111.25,
          134.61,
          121.36,
          104.91,
          68,
          117.82,
          89.16,
          108.46,
          78.86,
          85.04,
          56.14,
          105.16,
          52.98,
          63.21,
          129.27,
          146.03,
          126.28,
          77.49,
          76.21,
          125.35,
          135.11,
          89.98,
          82.24,
          134.87,
          102,
          85.67,
          125.55,
          89.68,
          125,
          59.34,
          134.01,
          137.85,
          85.35,
          116.58,
          90.26,
          64.14,
          119.78,
          58.85,
          101.48,
          82.54,
          90.04,
          125.5,
          57.03,
          57.89,
          67.84,
          76.76,
          59.89,
          89.48,
          95.99,
          86.34,
          102.53,
          163.96,
          58.79,
          157.59,
          110.88,
          125.54,
          144.85,
          149.92,
          55.49,
          134.37,
          121.76,
          68.53,
          138.75,
          82.68,
          78.49,
          117.08,
          81.78,
          61.89,
          106.46,
          95.43,
          50.93,
          61.49,
          108.94,
          70.94,
          170.22,
          120.19,
          56.18,
          122.66,
          145.47,
          137.8,
          96.53,
          88.22,
          74.3,
          55.97,
          107.1,
          116.83,
          59.16,
          111.94,
          116.29,
          64.99,
          124.97,
          86.4,
          64.27,
          78.49,
          102.88,
          120.65,
          109.28,
          126.32,
          116.22,
          112.93,
          54.28,
          88.66,
          67.95,
          136.29,
          135.02,
          134.73,
          150.36
         ],
         "y0": " ",
         "yaxis": "y"
        },
        {
         "alignmentgroup": "True",
         "hovertemplate": "Marca=%{x}<br>Precio Actual=%{y}<extra></extra>",
         "legendgroup": "Puma",
         "marker": {
          "color": "#FFA15A"
         },
         "name": "Puma",
         "notched": false,
         "offsetgroup": "Puma",
         "orientation": "v",
         "showlegend": true,
         "type": "box",
         "x": [
          "Puma",
          "Puma",
          "Puma",
          "Puma",
          "Puma",
          "Puma",
          "Puma",
          "Puma",
          "Puma",
          "Puma",
          "Puma",
          "Puma",
          "Puma",
          "Puma",
          "Puma",
          "Puma",
          "Puma",
          "Puma",
          "Puma",
          "Puma",
          "Puma",
          "Puma",
          "Puma",
          "Puma",
          "Puma",
          "Puma",
          "Puma",
          "Puma",
          "Puma",
          "Puma",
          "Puma",
          "Puma",
          "Puma",
          "Puma",
          "Puma",
          "Puma",
          "Puma",
          "Puma",
          "Puma",
          "Puma",
          "Puma",
          "Puma",
          "Puma",
          "Puma",
          "Puma",
          "Puma",
          "Puma",
          "Puma",
          "Puma",
          "Puma",
          "Puma"
         ],
         "x0": " ",
         "xaxis": "x",
         "y": [
          129.51,
          111.82,
          120.62,
          125.98,
          126.43,
          121.22,
          124.03,
          75.53,
          128.43,
          121.17,
          113.98,
          74.77,
          110.06,
          139.62,
          74.65,
          114.54,
          75.34,
          121.43,
          131.33,
          121.57,
          139.83,
          78.57,
          117.84,
          124.35,
          80.91,
          118.35,
          112.86,
          130.06,
          152.58,
          145.09,
          130.36,
          118.43,
          147.37,
          86.72,
          78.01,
          82.07,
          131.57,
          112.28,
          76.49,
          118.93,
          120.49,
          107.26,
          134.14,
          144.64,
          114.01,
          75.74,
          130.43,
          111.9,
          128.41,
          133.14,
          79.79
         ],
         "y0": " ",
         "yaxis": "y"
        }
       ],
       "layout": {
        "boxmode": "overlay",
        "legend": {
         "title": {
          "text": "Marca"
         },
         "tracegroupgap": 0
        },
        "template": {
         "data": {
          "bar": [
           {
            "error_x": {
             "color": "#2a3f5f"
            },
            "error_y": {
             "color": "#2a3f5f"
            },
            "marker": {
             "line": {
              "color": "#E5ECF6",
              "width": 0.5
             },
             "pattern": {
              "fillmode": "overlay",
              "size": 10,
              "solidity": 0.2
             }
            },
            "type": "bar"
           }
          ],
          "barpolar": [
           {
            "marker": {
             "line": {
              "color": "#E5ECF6",
              "width": 0.5
             },
             "pattern": {
              "fillmode": "overlay",
              "size": 10,
              "solidity": 0.2
             }
            },
            "type": "barpolar"
           }
          ],
          "carpet": [
           {
            "aaxis": {
             "endlinecolor": "#2a3f5f",
             "gridcolor": "white",
             "linecolor": "white",
             "minorgridcolor": "white",
             "startlinecolor": "#2a3f5f"
            },
            "baxis": {
             "endlinecolor": "#2a3f5f",
             "gridcolor": "white",
             "linecolor": "white",
             "minorgridcolor": "white",
             "startlinecolor": "#2a3f5f"
            },
            "type": "carpet"
           }
          ],
          "choropleth": [
           {
            "colorbar": {
             "outlinewidth": 0,
             "ticks": ""
            },
            "type": "choropleth"
           }
          ],
          "contour": [
           {
            "colorbar": {
             "outlinewidth": 0,
             "ticks": ""
            },
            "colorscale": [
             [
              0,
              "#0d0887"
             ],
             [
              0.1111111111111111,
              "#46039f"
             ],
             [
              0.2222222222222222,
              "#7201a8"
             ],
             [
              0.3333333333333333,
              "#9c179e"
             ],
             [
              0.4444444444444444,
              "#bd3786"
             ],
             [
              0.5555555555555556,
              "#d8576b"
             ],
             [
              0.6666666666666666,
              "#ed7953"
             ],
             [
              0.7777777777777778,
              "#fb9f3a"
             ],
             [
              0.8888888888888888,
              "#fdca26"
             ],
             [
              1,
              "#f0f921"
             ]
            ],
            "type": "contour"
           }
          ],
          "contourcarpet": [
           {
            "colorbar": {
             "outlinewidth": 0,
             "ticks": ""
            },
            "type": "contourcarpet"
           }
          ],
          "heatmap": [
           {
            "colorbar": {
             "outlinewidth": 0,
             "ticks": ""
            },
            "colorscale": [
             [
              0,
              "#0d0887"
             ],
             [
              0.1111111111111111,
              "#46039f"
             ],
             [
              0.2222222222222222,
              "#7201a8"
             ],
             [
              0.3333333333333333,
              "#9c179e"
             ],
             [
              0.4444444444444444,
              "#bd3786"
             ],
             [
              0.5555555555555556,
              "#d8576b"
             ],
             [
              0.6666666666666666,
              "#ed7953"
             ],
             [
              0.7777777777777778,
              "#fb9f3a"
             ],
             [
              0.8888888888888888,
              "#fdca26"
             ],
             [
              1,
              "#f0f921"
             ]
            ],
            "type": "heatmap"
           }
          ],
          "heatmapgl": [
           {
            "colorbar": {
             "outlinewidth": 0,
             "ticks": ""
            },
            "colorscale": [
             [
              0,
              "#0d0887"
             ],
             [
              0.1111111111111111,
              "#46039f"
             ],
             [
              0.2222222222222222,
              "#7201a8"
             ],
             [
              0.3333333333333333,
              "#9c179e"
             ],
             [
              0.4444444444444444,
              "#bd3786"
             ],
             [
              0.5555555555555556,
              "#d8576b"
             ],
             [
              0.6666666666666666,
              "#ed7953"
             ],
             [
              0.7777777777777778,
              "#fb9f3a"
             ],
             [
              0.8888888888888888,
              "#fdca26"
             ],
             [
              1,
              "#f0f921"
             ]
            ],
            "type": "heatmapgl"
           }
          ],
          "histogram": [
           {
            "marker": {
             "pattern": {
              "fillmode": "overlay",
              "size": 10,
              "solidity": 0.2
             }
            },
            "type": "histogram"
           }
          ],
          "histogram2d": [
           {
            "colorbar": {
             "outlinewidth": 0,
             "ticks": ""
            },
            "colorscale": [
             [
              0,
              "#0d0887"
             ],
             [
              0.1111111111111111,
              "#46039f"
             ],
             [
              0.2222222222222222,
              "#7201a8"
             ],
             [
              0.3333333333333333,
              "#9c179e"
             ],
             [
              0.4444444444444444,
              "#bd3786"
             ],
             [
              0.5555555555555556,
              "#d8576b"
             ],
             [
              0.6666666666666666,
              "#ed7953"
             ],
             [
              0.7777777777777778,
              "#fb9f3a"
             ],
             [
              0.8888888888888888,
              "#fdca26"
             ],
             [
              1,
              "#f0f921"
             ]
            ],
            "type": "histogram2d"
           }
          ],
          "histogram2dcontour": [
           {
            "colorbar": {
             "outlinewidth": 0,
             "ticks": ""
            },
            "colorscale": [
             [
              0,
              "#0d0887"
             ],
             [
              0.1111111111111111,
              "#46039f"
             ],
             [
              0.2222222222222222,
              "#7201a8"
             ],
             [
              0.3333333333333333,
              "#9c179e"
             ],
             [
              0.4444444444444444,
              "#bd3786"
             ],
             [
              0.5555555555555556,
              "#d8576b"
             ],
             [
              0.6666666666666666,
              "#ed7953"
             ],
             [
              0.7777777777777778,
              "#fb9f3a"
             ],
             [
              0.8888888888888888,
              "#fdca26"
             ],
             [
              1,
              "#f0f921"
             ]
            ],
            "type": "histogram2dcontour"
           }
          ],
          "mesh3d": [
           {
            "colorbar": {
             "outlinewidth": 0,
             "ticks": ""
            },
            "type": "mesh3d"
           }
          ],
          "parcoords": [
           {
            "line": {
             "colorbar": {
              "outlinewidth": 0,
              "ticks": ""
             }
            },
            "type": "parcoords"
           }
          ],
          "pie": [
           {
            "automargin": true,
            "type": "pie"
           }
          ],
          "scatter": [
           {
            "fillpattern": {
             "fillmode": "overlay",
             "size": 10,
             "solidity": 0.2
            },
            "type": "scatter"
           }
          ],
          "scatter3d": [
           {
            "line": {
             "colorbar": {
              "outlinewidth": 0,
              "ticks": ""
             }
            },
            "marker": {
             "colorbar": {
              "outlinewidth": 0,
              "ticks": ""
             }
            },
            "type": "scatter3d"
           }
          ],
          "scattercarpet": [
           {
            "marker": {
             "colorbar": {
              "outlinewidth": 0,
              "ticks": ""
             }
            },
            "type": "scattercarpet"
           }
          ],
          "scattergeo": [
           {
            "marker": {
             "colorbar": {
              "outlinewidth": 0,
              "ticks": ""
             }
            },
            "type": "scattergeo"
           }
          ],
          "scattergl": [
           {
            "marker": {
             "colorbar": {
              "outlinewidth": 0,
              "ticks": ""
             }
            },
            "type": "scattergl"
           }
          ],
          "scattermapbox": [
           {
            "marker": {
             "colorbar": {
              "outlinewidth": 0,
              "ticks": ""
             }
            },
            "type": "scattermapbox"
           }
          ],
          "scatterpolar": [
           {
            "marker": {
             "colorbar": {
              "outlinewidth": 0,
              "ticks": ""
             }
            },
            "type": "scatterpolar"
           }
          ],
          "scatterpolargl": [
           {
            "marker": {
             "colorbar": {
              "outlinewidth": 0,
              "ticks": ""
             }
            },
            "type": "scatterpolargl"
           }
          ],
          "scatterternary": [
           {
            "marker": {
             "colorbar": {
              "outlinewidth": 0,
              "ticks": ""
             }
            },
            "type": "scatterternary"
           }
          ],
          "surface": [
           {
            "colorbar": {
             "outlinewidth": 0,
             "ticks": ""
            },
            "colorscale": [
             [
              0,
              "#0d0887"
             ],
             [
              0.1111111111111111,
              "#46039f"
             ],
             [
              0.2222222222222222,
              "#7201a8"
             ],
             [
              0.3333333333333333,
              "#9c179e"
             ],
             [
              0.4444444444444444,
              "#bd3786"
             ],
             [
              0.5555555555555556,
              "#d8576b"
             ],
             [
              0.6666666666666666,
              "#ed7953"
             ],
             [
              0.7777777777777778,
              "#fb9f3a"
             ],
             [
              0.8888888888888888,
              "#fdca26"
             ],
             [
              1,
              "#f0f921"
             ]
            ],
            "type": "surface"
           }
          ],
          "table": [
           {
            "cells": {
             "fill": {
              "color": "#EBF0F8"
             },
             "line": {
              "color": "white"
             }
            },
            "header": {
             "fill": {
              "color": "#C8D4E3"
             },
             "line": {
              "color": "white"
             }
            },
            "type": "table"
           }
          ]
         },
         "layout": {
          "annotationdefaults": {
           "arrowcolor": "#2a3f5f",
           "arrowhead": 0,
           "arrowwidth": 1
          },
          "autotypenumbers": "strict",
          "coloraxis": {
           "colorbar": {
            "outlinewidth": 0,
            "ticks": ""
           }
          },
          "colorscale": {
           "diverging": [
            [
             0,
             "#8e0152"
            ],
            [
             0.1,
             "#c51b7d"
            ],
            [
             0.2,
             "#de77ae"
            ],
            [
             0.3,
             "#f1b6da"
            ],
            [
             0.4,
             "#fde0ef"
            ],
            [
             0.5,
             "#f7f7f7"
            ],
            [
             0.6,
             "#e6f5d0"
            ],
            [
             0.7,
             "#b8e186"
            ],
            [
             0.8,
             "#7fbc41"
            ],
            [
             0.9,
             "#4d9221"
            ],
            [
             1,
             "#276419"
            ]
           ],
           "sequential": [
            [
             0,
             "#0d0887"
            ],
            [
             0.1111111111111111,
             "#46039f"
            ],
            [
             0.2222222222222222,
             "#7201a8"
            ],
            [
             0.3333333333333333,
             "#9c179e"
            ],
            [
             0.4444444444444444,
             "#bd3786"
            ],
            [
             0.5555555555555556,
             "#d8576b"
            ],
            [
             0.6666666666666666,
             "#ed7953"
            ],
            [
             0.7777777777777778,
             "#fb9f3a"
            ],
            [
             0.8888888888888888,
             "#fdca26"
            ],
            [
             1,
             "#f0f921"
            ]
           ],
           "sequentialminus": [
            [
             0,
             "#0d0887"
            ],
            [
             0.1111111111111111,
             "#46039f"
            ],
            [
             0.2222222222222222,
             "#7201a8"
            ],
            [
             0.3333333333333333,
             "#9c179e"
            ],
            [
             0.4444444444444444,
             "#bd3786"
            ],
            [
             0.5555555555555556,
             "#d8576b"
            ],
            [
             0.6666666666666666,
             "#ed7953"
            ],
            [
             0.7777777777777778,
             "#fb9f3a"
            ],
            [
             0.8888888888888888,
             "#fdca26"
            ],
            [
             1,
             "#f0f921"
            ]
           ]
          },
          "colorway": [
           "#636efa",
           "#EF553B",
           "#00cc96",
           "#ab63fa",
           "#FFA15A",
           "#19d3f3",
           "#FF6692",
           "#B6E880",
           "#FF97FF",
           "#FECB52"
          ],
          "font": {
           "color": "#2a3f5f"
          },
          "geo": {
           "bgcolor": "white",
           "lakecolor": "white",
           "landcolor": "#E5ECF6",
           "showlakes": true,
           "showland": true,
           "subunitcolor": "white"
          },
          "hoverlabel": {
           "align": "left"
          },
          "hovermode": "closest",
          "mapbox": {
           "style": "light"
          },
          "paper_bgcolor": "white",
          "plot_bgcolor": "#E5ECF6",
          "polar": {
           "angularaxis": {
            "gridcolor": "white",
            "linecolor": "white",
            "ticks": ""
           },
           "bgcolor": "#E5ECF6",
           "radialaxis": {
            "gridcolor": "white",
            "linecolor": "white",
            "ticks": ""
           }
          },
          "scene": {
           "xaxis": {
            "backgroundcolor": "#E5ECF6",
            "gridcolor": "white",
            "gridwidth": 2,
            "linecolor": "white",
            "showbackground": true,
            "ticks": "",
            "zerolinecolor": "white"
           },
           "yaxis": {
            "backgroundcolor": "#E5ECF6",
            "gridcolor": "white",
            "gridwidth": 2,
            "linecolor": "white",
            "showbackground": true,
            "ticks": "",
            "zerolinecolor": "white"
           },
           "zaxis": {
            "backgroundcolor": "#E5ECF6",
            "gridcolor": "white",
            "gridwidth": 2,
            "linecolor": "white",
            "showbackground": true,
            "ticks": "",
            "zerolinecolor": "white"
           }
          },
          "shapedefaults": {
           "line": {
            "color": "#2a3f5f"
           }
          },
          "ternary": {
           "aaxis": {
            "gridcolor": "white",
            "linecolor": "white",
            "ticks": ""
           },
           "baxis": {
            "gridcolor": "white",
            "linecolor": "white",
            "ticks": ""
           },
           "bgcolor": "#E5ECF6",
           "caxis": {
            "gridcolor": "white",
            "linecolor": "white",
            "ticks": ""
           }
          },
          "title": {
           "x": 0.05
          },
          "xaxis": {
           "automargin": true,
           "gridcolor": "white",
           "linecolor": "white",
           "ticks": "",
           "title": {
            "standoff": 15
           },
           "zerolinecolor": "white",
           "zerolinewidth": 2
          },
          "yaxis": {
           "automargin": true,
           "gridcolor": "white",
           "linecolor": "white",
           "ticks": "",
           "title": {
            "standoff": 15
           },
           "zerolinecolor": "white",
           "zerolinewidth": 2
          }
         }
        },
        "title": {
         "text": "Distribución de Precios por Marca"
        },
        "xaxis": {
         "anchor": "y",
         "categoryarray": [
          "Under Armour",
          "Nike",
          "Tyr",
          "Reebok",
          "Puma"
         ],
         "categoryorder": "array",
         "domain": [
          0,
          1
         ],
         "title": {
          "text": "Marca"
         }
        },
        "yaxis": {
         "anchor": "x",
         "domain": [
          0,
          1
         ],
         "title": {
          "text": "Precio Actual"
         }
        }
       }
      }
     },
     "metadata": {},
     "output_type": "display_data"
    },
    {
     "data": {
      "application/vnd.plotly.v1+json": {
       "config": {
        "plotlyServerURL": "https://plot.ly"
       },
       "data": [
        {
         "hovertemplate": "Mes: %{x}<br>Precio Promedio: €%{y:.2f}<extra></extra>",
         "marker": {
          "color": [
           "blue",
           "blue",
           "blue",
           "blue",
           "green",
           "blue",
           "blue",
           "red",
           "blue",
           "blue",
           "blue",
           "blue"
          ]
         },
         "name": "Nike",
         "type": "bar",
         "x": [
          1,
          2,
          3,
          4,
          5,
          6,
          7,
          8,
          9,
          10,
          11,
          12
         ],
         "xaxis": "x",
         "y": [
          101,
          97.34,
          102.19,
          97.72,
          93.2,
          95.41,
          93.33,
          107.26,
          103.93,
          100.3,
          100.53,
          103.33
         ],
         "yaxis": "y"
        },
        {
         "hovertemplate": "Mes: %{x}<br>Precio Promedio: €%{y:.2f}<extra></extra>",
         "marker": {
          "color": [
           "green",
           "blue",
           "blue",
           "blue",
           "blue",
           "red",
           "blue",
           "blue",
           "blue",
           "blue",
           "blue",
           "blue"
          ]
         },
         "name": "Reebok",
         "type": "bar",
         "x": [
          1,
          2,
          3,
          4,
          5,
          6,
          7,
          8,
          9,
          10,
          11,
          12
         ],
         "xaxis": "x2",
         "y": [
          87.46,
          100.49,
          99.06,
          101.17,
          97.12,
          104.2,
          103.15,
          90.83,
          97.18,
          101.25,
          96.72,
          101.09
         ],
         "yaxis": "y2"
        },
        {
         "hovertemplate": "Mes: %{x}<br>Precio Promedio: €%{y:.2f}<extra></extra>",
         "marker": {
          "color": [
           "blue",
           "blue",
           "blue",
           "blue",
           "blue",
           "blue",
           "blue",
           "blue",
           "blue",
           "green",
           "red",
           "blue"
          ]
         },
         "name": "Under Armour",
         "type": "bar",
         "x": [
          1,
          2,
          3,
          4,
          5,
          6,
          7,
          8,
          9,
          10,
          11,
          12
         ],
         "xaxis": "x3",
         "y": [
          94.36,
          95.2,
          101.45,
          94.1,
          97.44,
          107.32,
          99.25,
          110.75,
          104.24,
          91.12,
          117.73,
          92.1
         ],
         "yaxis": "y3"
        },
        {
         "hovertemplate": "Mes: %{x}<br>Precio Promedio: €%{y:.2f}<extra></extra>",
         "marker": {
          "color": [
           "blue",
           "blue",
           "blue",
           "green",
           "blue",
           "blue",
           "blue",
           "red",
           "blue",
           "blue",
           "blue",
           "blue"
          ]
         },
         "name": "Tyr",
         "type": "bar",
         "x": [
          1,
          2,
          3,
          4,
          5,
          6,
          7,
          8,
          9,
          10,
          11,
          12
         ],
         "xaxis": "x4",
         "y": [
          113.65,
          139.66,
          134.7,
          102.47,
          127.44,
          104.81,
          131.75,
          170.99,
          153.2,
          118.88,
          160.53,
          159.53
         ],
         "yaxis": "y4"
        },
        {
         "hovertemplate": "Mes: %{x}<br>Precio Promedio: €%{y:.2f}<extra></extra>",
         "marker": {
          "color": [
           "blue",
           "blue",
           "blue",
           "blue",
           "blue",
           "blue",
           "blue",
           "red",
           "blue",
           "blue",
           "blue",
           "green"
          ]
         },
         "name": "Puma",
         "type": "bar",
         "x": [
          1,
          2,
          3,
          4,
          5,
          6,
          7,
          8,
          9,
          10,
          11,
          12
         ],
         "xaxis": "x5",
         "y": [
          120.66,
          123.3,
          116.14,
          103.05,
          126.45,
          112.08,
          102.63,
          131.79,
          110.65,
          111.6,
          119.75,
          79.79
         ],
         "yaxis": "y5"
        }
       ],
       "layout": {
        "annotations": [
         {
          "font": {
           "size": 16
          },
          "showarrow": false,
          "text": "Nike",
          "x": 0.13333333333333333,
          "xanchor": "center",
          "xref": "paper",
          "y": 1,
          "yanchor": "bottom",
          "yref": "paper"
         },
         {
          "font": {
           "size": 16
          },
          "showarrow": false,
          "text": "Reebok",
          "x": 0.5,
          "xanchor": "center",
          "xref": "paper",
          "y": 1,
          "yanchor": "bottom",
          "yref": "paper"
         },
         {
          "font": {
           "size": 16
          },
          "showarrow": false,
          "text": "Under Armour",
          "x": 0.8666666666666667,
          "xanchor": "center",
          "xref": "paper",
          "y": 1,
          "yanchor": "bottom",
          "yref": "paper"
         },
         {
          "font": {
           "size": 16
          },
          "showarrow": false,
          "text": "Tyr",
          "x": 0.13333333333333333,
          "xanchor": "center",
          "xref": "paper",
          "y": 0.45,
          "yanchor": "bottom",
          "yref": "paper"
         },
         {
          "font": {
           "size": 16
          },
          "showarrow": false,
          "text": "Puma",
          "x": 0.5,
          "xanchor": "center",
          "xref": "paper",
          "y": 0.45,
          "yanchor": "bottom",
          "yref": "paper"
         }
        ],
        "height": 700,
        "showlegend": false,
        "template": {
         "data": {
          "bar": [
           {
            "error_x": {
             "color": "#2a3f5f"
            },
            "error_y": {
             "color": "#2a3f5f"
            },
            "marker": {
             "line": {
              "color": "#E5ECF6",
              "width": 0.5
             },
             "pattern": {
              "fillmode": "overlay",
              "size": 10,
              "solidity": 0.2
             }
            },
            "type": "bar"
           }
          ],
          "barpolar": [
           {
            "marker": {
             "line": {
              "color": "#E5ECF6",
              "width": 0.5
             },
             "pattern": {
              "fillmode": "overlay",
              "size": 10,
              "solidity": 0.2
             }
            },
            "type": "barpolar"
           }
          ],
          "carpet": [
           {
            "aaxis": {
             "endlinecolor": "#2a3f5f",
             "gridcolor": "white",
             "linecolor": "white",
             "minorgridcolor": "white",
             "startlinecolor": "#2a3f5f"
            },
            "baxis": {
             "endlinecolor": "#2a3f5f",
             "gridcolor": "white",
             "linecolor": "white",
             "minorgridcolor": "white",
             "startlinecolor": "#2a3f5f"
            },
            "type": "carpet"
           }
          ],
          "choropleth": [
           {
            "colorbar": {
             "outlinewidth": 0,
             "ticks": ""
            },
            "type": "choropleth"
           }
          ],
          "contour": [
           {
            "colorbar": {
             "outlinewidth": 0,
             "ticks": ""
            },
            "colorscale": [
             [
              0,
              "#0d0887"
             ],
             [
              0.1111111111111111,
              "#46039f"
             ],
             [
              0.2222222222222222,
              "#7201a8"
             ],
             [
              0.3333333333333333,
              "#9c179e"
             ],
             [
              0.4444444444444444,
              "#bd3786"
             ],
             [
              0.5555555555555556,
              "#d8576b"
             ],
             [
              0.6666666666666666,
              "#ed7953"
             ],
             [
              0.7777777777777778,
              "#fb9f3a"
             ],
             [
              0.8888888888888888,
              "#fdca26"
             ],
             [
              1,
              "#f0f921"
             ]
            ],
            "type": "contour"
           }
          ],
          "contourcarpet": [
           {
            "colorbar": {
             "outlinewidth": 0,
             "ticks": ""
            },
            "type": "contourcarpet"
           }
          ],
          "heatmap": [
           {
            "colorbar": {
             "outlinewidth": 0,
             "ticks": ""
            },
            "colorscale": [
             [
              0,
              "#0d0887"
             ],
             [
              0.1111111111111111,
              "#46039f"
             ],
             [
              0.2222222222222222,
              "#7201a8"
             ],
             [
              0.3333333333333333,
              "#9c179e"
             ],
             [
              0.4444444444444444,
              "#bd3786"
             ],
             [
              0.5555555555555556,
              "#d8576b"
             ],
             [
              0.6666666666666666,
              "#ed7953"
             ],
             [
              0.7777777777777778,
              "#fb9f3a"
             ],
             [
              0.8888888888888888,
              "#fdca26"
             ],
             [
              1,
              "#f0f921"
             ]
            ],
            "type": "heatmap"
           }
          ],
          "heatmapgl": [
           {
            "colorbar": {
             "outlinewidth": 0,
             "ticks": ""
            },
            "colorscale": [
             [
              0,
              "#0d0887"
             ],
             [
              0.1111111111111111,
              "#46039f"
             ],
             [
              0.2222222222222222,
              "#7201a8"
             ],
             [
              0.3333333333333333,
              "#9c179e"
             ],
             [
              0.4444444444444444,
              "#bd3786"
             ],
             [
              0.5555555555555556,
              "#d8576b"
             ],
             [
              0.6666666666666666,
              "#ed7953"
             ],
             [
              0.7777777777777778,
              "#fb9f3a"
             ],
             [
              0.8888888888888888,
              "#fdca26"
             ],
             [
              1,
              "#f0f921"
             ]
            ],
            "type": "heatmapgl"
           }
          ],
          "histogram": [
           {
            "marker": {
             "pattern": {
              "fillmode": "overlay",
              "size": 10,
              "solidity": 0.2
             }
            },
            "type": "histogram"
           }
          ],
          "histogram2d": [
           {
            "colorbar": {
             "outlinewidth": 0,
             "ticks": ""
            },
            "colorscale": [
             [
              0,
              "#0d0887"
             ],
             [
              0.1111111111111111,
              "#46039f"
             ],
             [
              0.2222222222222222,
              "#7201a8"
             ],
             [
              0.3333333333333333,
              "#9c179e"
             ],
             [
              0.4444444444444444,
              "#bd3786"
             ],
             [
              0.5555555555555556,
              "#d8576b"
             ],
             [
              0.6666666666666666,
              "#ed7953"
             ],
             [
              0.7777777777777778,
              "#fb9f3a"
             ],
             [
              0.8888888888888888,
              "#fdca26"
             ],
             [
              1,
              "#f0f921"
             ]
            ],
            "type": "histogram2d"
           }
          ],
          "histogram2dcontour": [
           {
            "colorbar": {
             "outlinewidth": 0,
             "ticks": ""
            },
            "colorscale": [
             [
              0,
              "#0d0887"
             ],
             [
              0.1111111111111111,
              "#46039f"
             ],
             [
              0.2222222222222222,
              "#7201a8"
             ],
             [
              0.3333333333333333,
              "#9c179e"
             ],
             [
              0.4444444444444444,
              "#bd3786"
             ],
             [
              0.5555555555555556,
              "#d8576b"
             ],
             [
              0.6666666666666666,
              "#ed7953"
             ],
             [
              0.7777777777777778,
              "#fb9f3a"
             ],
             [
              0.8888888888888888,
              "#fdca26"
             ],
             [
              1,
              "#f0f921"
             ]
            ],
            "type": "histogram2dcontour"
           }
          ],
          "mesh3d": [
           {
            "colorbar": {
             "outlinewidth": 0,
             "ticks": ""
            },
            "type": "mesh3d"
           }
          ],
          "parcoords": [
           {
            "line": {
             "colorbar": {
              "outlinewidth": 0,
              "ticks": ""
             }
            },
            "type": "parcoords"
           }
          ],
          "pie": [
           {
            "automargin": true,
            "type": "pie"
           }
          ],
          "scatter": [
           {
            "fillpattern": {
             "fillmode": "overlay",
             "size": 10,
             "solidity": 0.2
            },
            "type": "scatter"
           }
          ],
          "scatter3d": [
           {
            "line": {
             "colorbar": {
              "outlinewidth": 0,
              "ticks": ""
             }
            },
            "marker": {
             "colorbar": {
              "outlinewidth": 0,
              "ticks": ""
             }
            },
            "type": "scatter3d"
           }
          ],
          "scattercarpet": [
           {
            "marker": {
             "colorbar": {
              "outlinewidth": 0,
              "ticks": ""
             }
            },
            "type": "scattercarpet"
           }
          ],
          "scattergeo": [
           {
            "marker": {
             "colorbar": {
              "outlinewidth": 0,
              "ticks": ""
             }
            },
            "type": "scattergeo"
           }
          ],
          "scattergl": [
           {
            "marker": {
             "colorbar": {
              "outlinewidth": 0,
              "ticks": ""
             }
            },
            "type": "scattergl"
           }
          ],
          "scattermapbox": [
           {
            "marker": {
             "colorbar": {
              "outlinewidth": 0,
              "ticks": ""
             }
            },
            "type": "scattermapbox"
           }
          ],
          "scatterpolar": [
           {
            "marker": {
             "colorbar": {
              "outlinewidth": 0,
              "ticks": ""
             }
            },
            "type": "scatterpolar"
           }
          ],
          "scatterpolargl": [
           {
            "marker": {
             "colorbar": {
              "outlinewidth": 0,
              "ticks": ""
             }
            },
            "type": "scatterpolargl"
           }
          ],
          "scatterternary": [
           {
            "marker": {
             "colorbar": {
              "outlinewidth": 0,
              "ticks": ""
             }
            },
            "type": "scatterternary"
           }
          ],
          "surface": [
           {
            "colorbar": {
             "outlinewidth": 0,
             "ticks": ""
            },
            "colorscale": [
             [
              0,
              "#0d0887"
             ],
             [
              0.1111111111111111,
              "#46039f"
             ],
             [
              0.2222222222222222,
              "#7201a8"
             ],
             [
              0.3333333333333333,
              "#9c179e"
             ],
             [
              0.4444444444444444,
              "#bd3786"
             ],
             [
              0.5555555555555556,
              "#d8576b"
             ],
             [
              0.6666666666666666,
              "#ed7953"
             ],
             [
              0.7777777777777778,
              "#fb9f3a"
             ],
             [
              0.8888888888888888,
              "#fdca26"
             ],
             [
              1,
              "#f0f921"
             ]
            ],
            "type": "surface"
           }
          ],
          "table": [
           {
            "cells": {
             "fill": {
              "color": "#EBF0F8"
             },
             "line": {
              "color": "white"
             }
            },
            "header": {
             "fill": {
              "color": "#C8D4E3"
             },
             "line": {
              "color": "white"
             }
            },
            "type": "table"
           }
          ]
         },
         "layout": {
          "annotationdefaults": {
           "arrowcolor": "#2a3f5f",
           "arrowhead": 0,
           "arrowwidth": 1
          },
          "autotypenumbers": "strict",
          "coloraxis": {
           "colorbar": {
            "outlinewidth": 0,
            "ticks": ""
           }
          },
          "colorscale": {
           "diverging": [
            [
             0,
             "#8e0152"
            ],
            [
             0.1,
             "#c51b7d"
            ],
            [
             0.2,
             "#de77ae"
            ],
            [
             0.3,
             "#f1b6da"
            ],
            [
             0.4,
             "#fde0ef"
            ],
            [
             0.5,
             "#f7f7f7"
            ],
            [
             0.6,
             "#e6f5d0"
            ],
            [
             0.7,
             "#b8e186"
            ],
            [
             0.8,
             "#7fbc41"
            ],
            [
             0.9,
             "#4d9221"
            ],
            [
             1,
             "#276419"
            ]
           ],
           "sequential": [
            [
             0,
             "#0d0887"
            ],
            [
             0.1111111111111111,
             "#46039f"
            ],
            [
             0.2222222222222222,
             "#7201a8"
            ],
            [
             0.3333333333333333,
             "#9c179e"
            ],
            [
             0.4444444444444444,
             "#bd3786"
            ],
            [
             0.5555555555555556,
             "#d8576b"
            ],
            [
             0.6666666666666666,
             "#ed7953"
            ],
            [
             0.7777777777777778,
             "#fb9f3a"
            ],
            [
             0.8888888888888888,
             "#fdca26"
            ],
            [
             1,
             "#f0f921"
            ]
           ],
           "sequentialminus": [
            [
             0,
             "#0d0887"
            ],
            [
             0.1111111111111111,
             "#46039f"
            ],
            [
             0.2222222222222222,
             "#7201a8"
            ],
            [
             0.3333333333333333,
             "#9c179e"
            ],
            [
             0.4444444444444444,
             "#bd3786"
            ],
            [
             0.5555555555555556,
             "#d8576b"
            ],
            [
             0.6666666666666666,
             "#ed7953"
            ],
            [
             0.7777777777777778,
             "#fb9f3a"
            ],
            [
             0.8888888888888888,
             "#fdca26"
            ],
            [
             1,
             "#f0f921"
            ]
           ]
          },
          "colorway": [
           "#636efa",
           "#EF553B",
           "#00cc96",
           "#ab63fa",
           "#FFA15A",
           "#19d3f3",
           "#FF6692",
           "#B6E880",
           "#FF97FF",
           "#FECB52"
          ],
          "font": {
           "color": "#2a3f5f"
          },
          "geo": {
           "bgcolor": "white",
           "lakecolor": "white",
           "landcolor": "#E5ECF6",
           "showlakes": true,
           "showland": true,
           "subunitcolor": "white"
          },
          "hoverlabel": {
           "align": "left"
          },
          "hovermode": "closest",
          "mapbox": {
           "style": "light"
          },
          "paper_bgcolor": "white",
          "plot_bgcolor": "#E5ECF6",
          "polar": {
           "angularaxis": {
            "gridcolor": "white",
            "linecolor": "white",
            "ticks": ""
           },
           "bgcolor": "#E5ECF6",
           "radialaxis": {
            "gridcolor": "white",
            "linecolor": "white",
            "ticks": ""
           }
          },
          "scene": {
           "xaxis": {
            "backgroundcolor": "#E5ECF6",
            "gridcolor": "white",
            "gridwidth": 2,
            "linecolor": "white",
            "showbackground": true,
            "ticks": "",
            "zerolinecolor": "white"
           },
           "yaxis": {
            "backgroundcolor": "#E5ECF6",
            "gridcolor": "white",
            "gridwidth": 2,
            "linecolor": "white",
            "showbackground": true,
            "ticks": "",
            "zerolinecolor": "white"
           },
           "zaxis": {
            "backgroundcolor": "#E5ECF6",
            "gridcolor": "white",
            "gridwidth": 2,
            "linecolor": "white",
            "showbackground": true,
            "ticks": "",
            "zerolinecolor": "white"
           }
          },
          "shapedefaults": {
           "line": {
            "color": "#2a3f5f"
           }
          },
          "ternary": {
           "aaxis": {
            "gridcolor": "white",
            "linecolor": "white",
            "ticks": ""
           },
           "baxis": {
            "gridcolor": "white",
            "linecolor": "white",
            "ticks": ""
           },
           "bgcolor": "#E5ECF6",
           "caxis": {
            "gridcolor": "white",
            "linecolor": "white",
            "ticks": ""
           }
          },
          "title": {
           "x": 0.05
          },
          "xaxis": {
           "automargin": true,
           "gridcolor": "white",
           "linecolor": "white",
           "ticks": "",
           "title": {
            "standoff": 15
           },
           "zerolinecolor": "white",
           "zerolinewidth": 2
          },
          "yaxis": {
           "automargin": true,
           "gridcolor": "white",
           "linecolor": "white",
           "ticks": "",
           "title": {
            "standoff": 15
           },
           "zerolinecolor": "white",
           "zerolinewidth": 2
          }
         }
        },
        "title": {
         "text": "Promedio de Precios por Mes para Diferentes Marcas",
         "x": 0.5,
         "y": 0.95
        },
        "width": 900,
        "xaxis": {
         "anchor": "y",
         "domain": [
          0,
          0.26666666666666666
         ],
         "tickmode": "array",
         "ticktext": [
          "Ene",
          "Feb",
          "Mar",
          "Abr",
          "May",
          "Jun",
          "Jul",
          "Ago",
          "Sep",
          "Oct",
          "Nov",
          "Dic"
         ],
         "tickvals": [
          1,
          2,
          3,
          4,
          5,
          6,
          7,
          8,
          9,
          10,
          11,
          12
         ]
        },
        "xaxis2": {
         "anchor": "y2",
         "domain": [
          0.3666666666666667,
          0.6333333333333333
         ],
         "tickmode": "array",
         "ticktext": [
          "Ene",
          "Feb",
          "Mar",
          "Abr",
          "May",
          "Jun",
          "Jul",
          "Ago",
          "Sep",
          "Oct",
          "Nov",
          "Dic"
         ],
         "tickvals": [
          1,
          2,
          3,
          4,
          5,
          6,
          7,
          8,
          9,
          10,
          11,
          12
         ]
        },
        "xaxis3": {
         "anchor": "y3",
         "domain": [
          0.7333333333333334,
          1
         ],
         "tickmode": "array",
         "ticktext": [
          "Ene",
          "Feb",
          "Mar",
          "Abr",
          "May",
          "Jun",
          "Jul",
          "Ago",
          "Sep",
          "Oct",
          "Nov",
          "Dic"
         ],
         "tickvals": [
          1,
          2,
          3,
          4,
          5,
          6,
          7,
          8,
          9,
          10,
          11,
          12
         ]
        },
        "xaxis4": {
         "anchor": "y4",
         "domain": [
          0,
          0.26666666666666666
         ],
         "tickmode": "array",
         "ticktext": [
          "Ene",
          "Feb",
          "Mar",
          "Abr",
          "May",
          "Jun",
          "Jul",
          "Ago",
          "Sep",
          "Oct",
          "Nov",
          "Dic"
         ],
         "tickvals": [
          1,
          2,
          3,
          4,
          5,
          6,
          7,
          8,
          9,
          10,
          11,
          12
         ]
        },
        "xaxis5": {
         "anchor": "y5",
         "domain": [
          0.3666666666666667,
          0.6333333333333333
         ],
         "tickmode": "array",
         "ticktext": [
          "Ene",
          "Feb",
          "Mar",
          "Abr",
          "May",
          "Jun",
          "Jul",
          "Ago",
          "Sep",
          "Oct",
          "Nov",
          "Dic"
         ],
         "tickvals": [
          1,
          2,
          3,
          4,
          5,
          6,
          7,
          8,
          9,
          10,
          11,
          12
         ]
        },
        "xaxis6": {
         "anchor": "y6",
         "domain": [
          0.7333333333333334,
          1
         ],
         "tickmode": "array",
         "ticktext": [
          "Ene",
          "Feb",
          "Mar",
          "Abr",
          "May",
          "Jun",
          "Jul",
          "Ago",
          "Sep",
          "Oct",
          "Nov",
          "Dic"
         ],
         "tickvals": [
          1,
          2,
          3,
          4,
          5,
          6,
          7,
          8,
          9,
          10,
          11,
          12
         ]
        },
        "yaxis": {
         "anchor": "x",
         "domain": [
          0.55,
          1
         ],
         "title": {
          "text": "Precio Promedio (€)"
         }
        },
        "yaxis2": {
         "anchor": "x2",
         "domain": [
          0.55,
          1
         ],
         "matches": "y",
         "showticklabels": false
        },
        "yaxis3": {
         "anchor": "x3",
         "domain": [
          0.55,
          1
         ],
         "matches": "y",
         "showticklabels": false
        },
        "yaxis4": {
         "anchor": "x4",
         "domain": [
          0,
          0.45
         ],
         "title": {
          "text": "Precio Promedio (€)"
         }
        },
        "yaxis5": {
         "anchor": "x5",
         "domain": [
          0,
          0.45
         ],
         "matches": "y4",
         "showticklabels": false
        },
        "yaxis6": {
         "anchor": "x6",
         "domain": [
          0,
          0.45
         ],
         "matches": "y4",
         "showticklabels": false
        }
       }
      }
     },
     "metadata": {},
     "output_type": "display_data"
    },
    {
     "data": {
      "application/vnd.plotly.v1+json": {
       "config": {
        "plotlyServerURL": "https://plot.ly"
       },
       "data": [
        {
         "hovertemplate": "Modelo=Metcon 9<br>Mes=%{x}<br>Precio Promedio (€)=%{y}<extra></extra>",
         "legendgroup": "Metcon 9",
         "line": {
          "color": "#636efa",
          "dash": "solid"
         },
         "marker": {
          "symbol": "circle"
         },
         "mode": "lines",
         "name": "Metcon 9",
         "orientation": "v",
         "showlegend": true,
         "type": "scatter",
         "x": [
          1,
          2,
          3,
          4,
          5,
          6,
          7,
          8,
          9,
          10,
          11,
          12
         ],
         "xaxis": "x",
         "y": [
          94.8664705882353,
          95.02000000000001,
          97.5442857142857,
          95.6452,
          94.5188,
          91.89692307692309,
          91.5,
          102.48559999999999,
          100.67807692307693,
          96.55310344827586,
          96.45647058823529,
          99.25565217391305
         ],
         "yaxis": "y"
        },
        {
         "hovertemplate": "Modelo=Nano<br>Mes=%{x}<br>Precio Promedio (€)=%{y}<extra></extra>",
         "legendgroup": "Nano",
         "line": {
          "color": "#EF553B",
          "dash": "solid"
         },
         "marker": {
          "symbol": "circle"
         },
         "mode": "lines",
         "name": "Nano",
         "orientation": "v",
         "showlegend": true,
         "type": "scatter",
         "x": [
          1,
          2,
          3,
          4,
          5,
          6,
          7,
          8,
          9,
          10,
          11,
          12
         ],
         "xaxis": "x",
         "y": [
          92.58,
          108.30529411764707,
          106.16428571428571,
          113.028,
          106.88166666666666,
          112.075625,
          114.1361111111111,
          107.08916666666666,
          101.8111111111111,
          108.88666666666667,
          112.204,
          119.72470588235294
         ],
         "yaxis": "y"
        },
        {
         "hovertemplate": "Modelo=Tribase Reign 6<br>Mes=%{x}<br>Precio Promedio (€)=%{y}<extra></extra>",
         "legendgroup": "Tribase Reign 6",
         "line": {
          "color": "#00cc96",
          "dash": "solid"
         },
         "marker": {
          "symbol": "circle"
         },
         "mode": "lines",
         "name": "Tribase Reign 6",
         "orientation": "v",
         "showlegend": true,
         "type": "scatter",
         "x": [
          1,
          2,
          3,
          4,
          5,
          6,
          7,
          8,
          9,
          10,
          11,
          12
         ],
         "xaxis": "x",
         "y": [
          107.56833333333333,
          104.24111111111111,
          110.982,
          112.5675,
          97.44333333333334,
          117.16199999999999,
          109.75999999999999,
          119.08,
          115.96666666666667,
          98.5375,
          117.726,
          92.095
         ],
         "yaxis": "y"
        }
       ],
       "layout": {
        "legend": {
         "title": {
          "text": "Modelo"
         },
         "tracegroupgap": 0
        },
        "template": {
         "data": {
          "bar": [
           {
            "error_x": {
             "color": "#2a3f5f"
            },
            "error_y": {
             "color": "#2a3f5f"
            },
            "marker": {
             "line": {
              "color": "#E5ECF6",
              "width": 0.5
             },
             "pattern": {
              "fillmode": "overlay",
              "size": 10,
              "solidity": 0.2
             }
            },
            "type": "bar"
           }
          ],
          "barpolar": [
           {
            "marker": {
             "line": {
              "color": "#E5ECF6",
              "width": 0.5
             },
             "pattern": {
              "fillmode": "overlay",
              "size": 10,
              "solidity": 0.2
             }
            },
            "type": "barpolar"
           }
          ],
          "carpet": [
           {
            "aaxis": {
             "endlinecolor": "#2a3f5f",
             "gridcolor": "white",
             "linecolor": "white",
             "minorgridcolor": "white",
             "startlinecolor": "#2a3f5f"
            },
            "baxis": {
             "endlinecolor": "#2a3f5f",
             "gridcolor": "white",
             "linecolor": "white",
             "minorgridcolor": "white",
             "startlinecolor": "#2a3f5f"
            },
            "type": "carpet"
           }
          ],
          "choropleth": [
           {
            "colorbar": {
             "outlinewidth": 0,
             "ticks": ""
            },
            "type": "choropleth"
           }
          ],
          "contour": [
           {
            "colorbar": {
             "outlinewidth": 0,
             "ticks": ""
            },
            "colorscale": [
             [
              0,
              "#0d0887"
             ],
             [
              0.1111111111111111,
              "#46039f"
             ],
             [
              0.2222222222222222,
              "#7201a8"
             ],
             [
              0.3333333333333333,
              "#9c179e"
             ],
             [
              0.4444444444444444,
              "#bd3786"
             ],
             [
              0.5555555555555556,
              "#d8576b"
             ],
             [
              0.6666666666666666,
              "#ed7953"
             ],
             [
              0.7777777777777778,
              "#fb9f3a"
             ],
             [
              0.8888888888888888,
              "#fdca26"
             ],
             [
              1,
              "#f0f921"
             ]
            ],
            "type": "contour"
           }
          ],
          "contourcarpet": [
           {
            "colorbar": {
             "outlinewidth": 0,
             "ticks": ""
            },
            "type": "contourcarpet"
           }
          ],
          "heatmap": [
           {
            "colorbar": {
             "outlinewidth": 0,
             "ticks": ""
            },
            "colorscale": [
             [
              0,
              "#0d0887"
             ],
             [
              0.1111111111111111,
              "#46039f"
             ],
             [
              0.2222222222222222,
              "#7201a8"
             ],
             [
              0.3333333333333333,
              "#9c179e"
             ],
             [
              0.4444444444444444,
              "#bd3786"
             ],
             [
              0.5555555555555556,
              "#d8576b"
             ],
             [
              0.6666666666666666,
              "#ed7953"
             ],
             [
              0.7777777777777778,
              "#fb9f3a"
             ],
             [
              0.8888888888888888,
              "#fdca26"
             ],
             [
              1,
              "#f0f921"
             ]
            ],
            "type": "heatmap"
           }
          ],
          "heatmapgl": [
           {
            "colorbar": {
             "outlinewidth": 0,
             "ticks": ""
            },
            "colorscale": [
             [
              0,
              "#0d0887"
             ],
             [
              0.1111111111111111,
              "#46039f"
             ],
             [
              0.2222222222222222,
              "#7201a8"
             ],
             [
              0.3333333333333333,
              "#9c179e"
             ],
             [
              0.4444444444444444,
              "#bd3786"
             ],
             [
              0.5555555555555556,
              "#d8576b"
             ],
             [
              0.6666666666666666,
              "#ed7953"
             ],
             [
              0.7777777777777778,
              "#fb9f3a"
             ],
             [
              0.8888888888888888,
              "#fdca26"
             ],
             [
              1,
              "#f0f921"
             ]
            ],
            "type": "heatmapgl"
           }
          ],
          "histogram": [
           {
            "marker": {
             "pattern": {
              "fillmode": "overlay",
              "size": 10,
              "solidity": 0.2
             }
            },
            "type": "histogram"
           }
          ],
          "histogram2d": [
           {
            "colorbar": {
             "outlinewidth": 0,
             "ticks": ""
            },
            "colorscale": [
             [
              0,
              "#0d0887"
             ],
             [
              0.1111111111111111,
              "#46039f"
             ],
             [
              0.2222222222222222,
              "#7201a8"
             ],
             [
              0.3333333333333333,
              "#9c179e"
             ],
             [
              0.4444444444444444,
              "#bd3786"
             ],
             [
              0.5555555555555556,
              "#d8576b"
             ],
             [
              0.6666666666666666,
              "#ed7953"
             ],
             [
              0.7777777777777778,
              "#fb9f3a"
             ],
             [
              0.8888888888888888,
              "#fdca26"
             ],
             [
              1,
              "#f0f921"
             ]
            ],
            "type": "histogram2d"
           }
          ],
          "histogram2dcontour": [
           {
            "colorbar": {
             "outlinewidth": 0,
             "ticks": ""
            },
            "colorscale": [
             [
              0,
              "#0d0887"
             ],
             [
              0.1111111111111111,
              "#46039f"
             ],
             [
              0.2222222222222222,
              "#7201a8"
             ],
             [
              0.3333333333333333,
              "#9c179e"
             ],
             [
              0.4444444444444444,
              "#bd3786"
             ],
             [
              0.5555555555555556,
              "#d8576b"
             ],
             [
              0.6666666666666666,
              "#ed7953"
             ],
             [
              0.7777777777777778,
              "#fb9f3a"
             ],
             [
              0.8888888888888888,
              "#fdca26"
             ],
             [
              1,
              "#f0f921"
             ]
            ],
            "type": "histogram2dcontour"
           }
          ],
          "mesh3d": [
           {
            "colorbar": {
             "outlinewidth": 0,
             "ticks": ""
            },
            "type": "mesh3d"
           }
          ],
          "parcoords": [
           {
            "line": {
             "colorbar": {
              "outlinewidth": 0,
              "ticks": ""
             }
            },
            "type": "parcoords"
           }
          ],
          "pie": [
           {
            "automargin": true,
            "type": "pie"
           }
          ],
          "scatter": [
           {
            "fillpattern": {
             "fillmode": "overlay",
             "size": 10,
             "solidity": 0.2
            },
            "type": "scatter"
           }
          ],
          "scatter3d": [
           {
            "line": {
             "colorbar": {
              "outlinewidth": 0,
              "ticks": ""
             }
            },
            "marker": {
             "colorbar": {
              "outlinewidth": 0,
              "ticks": ""
             }
            },
            "type": "scatter3d"
           }
          ],
          "scattercarpet": [
           {
            "marker": {
             "colorbar": {
              "outlinewidth": 0,
              "ticks": ""
             }
            },
            "type": "scattercarpet"
           }
          ],
          "scattergeo": [
           {
            "marker": {
             "colorbar": {
              "outlinewidth": 0,
              "ticks": ""
             }
            },
            "type": "scattergeo"
           }
          ],
          "scattergl": [
           {
            "marker": {
             "colorbar": {
              "outlinewidth": 0,
              "ticks": ""
             }
            },
            "type": "scattergl"
           }
          ],
          "scattermapbox": [
           {
            "marker": {
             "colorbar": {
              "outlinewidth": 0,
              "ticks": ""
             }
            },
            "type": "scattermapbox"
           }
          ],
          "scatterpolar": [
           {
            "marker": {
             "colorbar": {
              "outlinewidth": 0,
              "ticks": ""
             }
            },
            "type": "scatterpolar"
           }
          ],
          "scatterpolargl": [
           {
            "marker": {
             "colorbar": {
              "outlinewidth": 0,
              "ticks": ""
             }
            },
            "type": "scatterpolargl"
           }
          ],
          "scatterternary": [
           {
            "marker": {
             "colorbar": {
              "outlinewidth": 0,
              "ticks": ""
             }
            },
            "type": "scatterternary"
           }
          ],
          "surface": [
           {
            "colorbar": {
             "outlinewidth": 0,
             "ticks": ""
            },
            "colorscale": [
             [
              0,
              "#0d0887"
             ],
             [
              0.1111111111111111,
              "#46039f"
             ],
             [
              0.2222222222222222,
              "#7201a8"
             ],
             [
              0.3333333333333333,
              "#9c179e"
             ],
             [
              0.4444444444444444,
              "#bd3786"
             ],
             [
              0.5555555555555556,
              "#d8576b"
             ],
             [
              0.6666666666666666,
              "#ed7953"
             ],
             [
              0.7777777777777778,
              "#fb9f3a"
             ],
             [
              0.8888888888888888,
              "#fdca26"
             ],
             [
              1,
              "#f0f921"
             ]
            ],
            "type": "surface"
           }
          ],
          "table": [
           {
            "cells": {
             "fill": {
              "color": "#EBF0F8"
             },
             "line": {
              "color": "white"
             }
            },
            "header": {
             "fill": {
              "color": "#C8D4E3"
             },
             "line": {
              "color": "white"
             }
            },
            "type": "table"
           }
          ]
         },
         "layout": {
          "annotationdefaults": {
           "arrowcolor": "#2a3f5f",
           "arrowhead": 0,
           "arrowwidth": 1
          },
          "autotypenumbers": "strict",
          "coloraxis": {
           "colorbar": {
            "outlinewidth": 0,
            "ticks": ""
           }
          },
          "colorscale": {
           "diverging": [
            [
             0,
             "#8e0152"
            ],
            [
             0.1,
             "#c51b7d"
            ],
            [
             0.2,
             "#de77ae"
            ],
            [
             0.3,
             "#f1b6da"
            ],
            [
             0.4,
             "#fde0ef"
            ],
            [
             0.5,
             "#f7f7f7"
            ],
            [
             0.6,
             "#e6f5d0"
            ],
            [
             0.7,
             "#b8e186"
            ],
            [
             0.8,
             "#7fbc41"
            ],
            [
             0.9,
             "#4d9221"
            ],
            [
             1,
             "#276419"
            ]
           ],
           "sequential": [
            [
             0,
             "#0d0887"
            ],
            [
             0.1111111111111111,
             "#46039f"
            ],
            [
             0.2222222222222222,
             "#7201a8"
            ],
            [
             0.3333333333333333,
             "#9c179e"
            ],
            [
             0.4444444444444444,
             "#bd3786"
            ],
            [
             0.5555555555555556,
             "#d8576b"
            ],
            [
             0.6666666666666666,
             "#ed7953"
            ],
            [
             0.7777777777777778,
             "#fb9f3a"
            ],
            [
             0.8888888888888888,
             "#fdca26"
            ],
            [
             1,
             "#f0f921"
            ]
           ],
           "sequentialminus": [
            [
             0,
             "#0d0887"
            ],
            [
             0.1111111111111111,
             "#46039f"
            ],
            [
             0.2222222222222222,
             "#7201a8"
            ],
            [
             0.3333333333333333,
             "#9c179e"
            ],
            [
             0.4444444444444444,
             "#bd3786"
            ],
            [
             0.5555555555555556,
             "#d8576b"
            ],
            [
             0.6666666666666666,
             "#ed7953"
            ],
            [
             0.7777777777777778,
             "#fb9f3a"
            ],
            [
             0.8888888888888888,
             "#fdca26"
            ],
            [
             1,
             "#f0f921"
            ]
           ]
          },
          "colorway": [
           "#636efa",
           "#EF553B",
           "#00cc96",
           "#ab63fa",
           "#FFA15A",
           "#19d3f3",
           "#FF6692",
           "#B6E880",
           "#FF97FF",
           "#FECB52"
          ],
          "font": {
           "color": "#2a3f5f"
          },
          "geo": {
           "bgcolor": "white",
           "lakecolor": "white",
           "landcolor": "#E5ECF6",
           "showlakes": true,
           "showland": true,
           "subunitcolor": "white"
          },
          "hoverlabel": {
           "align": "left"
          },
          "hovermode": "closest",
          "mapbox": {
           "style": "light"
          },
          "paper_bgcolor": "white",
          "plot_bgcolor": "#E5ECF6",
          "polar": {
           "angularaxis": {
            "gridcolor": "white",
            "linecolor": "white",
            "ticks": ""
           },
           "bgcolor": "#E5ECF6",
           "radialaxis": {
            "gridcolor": "white",
            "linecolor": "white",
            "ticks": ""
           }
          },
          "scene": {
           "xaxis": {
            "backgroundcolor": "#E5ECF6",
            "gridcolor": "white",
            "gridwidth": 2,
            "linecolor": "white",
            "showbackground": true,
            "ticks": "",
            "zerolinecolor": "white"
           },
           "yaxis": {
            "backgroundcolor": "#E5ECF6",
            "gridcolor": "white",
            "gridwidth": 2,
            "linecolor": "white",
            "showbackground": true,
            "ticks": "",
            "zerolinecolor": "white"
           },
           "zaxis": {
            "backgroundcolor": "#E5ECF6",
            "gridcolor": "white",
            "gridwidth": 2,
            "linecolor": "white",
            "showbackground": true,
            "ticks": "",
            "zerolinecolor": "white"
           }
          },
          "shapedefaults": {
           "line": {
            "color": "#2a3f5f"
           }
          },
          "ternary": {
           "aaxis": {
            "gridcolor": "white",
            "linecolor": "white",
            "ticks": ""
           },
           "baxis": {
            "gridcolor": "white",
            "linecolor": "white",
            "ticks": ""
           },
           "bgcolor": "#E5ECF6",
           "caxis": {
            "gridcolor": "white",
            "linecolor": "white",
            "ticks": ""
           }
          },
          "title": {
           "x": 0.05
          },
          "xaxis": {
           "automargin": true,
           "gridcolor": "white",
           "linecolor": "white",
           "ticks": "",
           "title": {
            "standoff": 15
           },
           "zerolinecolor": "white",
           "zerolinewidth": 2
          },
          "yaxis": {
           "automargin": true,
           "gridcolor": "white",
           "linecolor": "white",
           "ticks": "",
           "title": {
            "standoff": 15
           },
           "zerolinecolor": "white",
           "zerolinewidth": 2
          }
         }
        },
        "title": {
         "text": "Comparación de Precios Promedios por Mes"
        },
        "xaxis": {
         "anchor": "y",
         "domain": [
          0,
          1
         ],
         "tickangle": 45,
         "tickmode": "array",
         "ticktext": [
          "Enero",
          "Febrero",
          "Marzo",
          "Abril",
          "Mayo",
          "Junio",
          "Julio",
          "Agosto",
          "Septiembre",
          "Octubre",
          "Noviembre",
          "Diciembre"
         ],
         "tickvals": [
          1,
          2,
          3,
          4,
          5,
          6,
          7,
          8,
          9,
          10,
          11,
          12
         ],
         "title": {
          "text": "Mes"
         }
        },
        "yaxis": {
         "anchor": "x",
         "domain": [
          0,
          1
         ],
         "title": {
          "text": "Precio Promedio (€)"
         }
        }
       }
      }
     },
     "metadata": {},
     "output_type": "display_data"
    },
    {
     "data": {
      "application/vnd.plotly.v1+json": {
       "config": {
        "plotlyServerURL": "https://plot.ly"
       },
       "data": [
        {
         "customdata": [
          [
           "Metcon 9",
           "black"
          ],
          [
           "Metcon 9",
           "blue"
          ],
          [
           "Metcon 9",
           "brown"
          ],
          [
           "Metcon 9",
           "green"
          ],
          [
           "Metcon 9",
           "violet"
          ],
          [
           "Metcon 9",
           "white"
          ]
         ],
         "hovertemplate": "Modelo=%{customdata[0]}<br>Precio Actual (€)=%{x}<br>Precio Normal (€)=%{marker.size}<br>Color Principal=%{customdata[1]}<extra></extra>",
         "legendgroup": "Metcon 9",
         "marker": {
          "color": "#636efa",
          "size": [
           111.16464788732394,
           138.79307692307694,
           139.07692307692307,
           116.24538461538462,
           138.77538461538464,
           114.31140625
          ],
          "sizemode": "area",
          "sizeref": 0.35628076923076923,
          "symbol": "circle"
         },
         "mode": "markers",
         "name": "Metcon 9",
         "orientation": "v",
         "showlegend": true,
         "type": "scatter",
         "x": [
          85.81225352112676,
          118.69974358974359,
          118.08461538461538,
          80.11384615384615,
          117.76307692307692,
          100.4184375
         ],
         "xaxis": "x",
         "y": [
          111.16464788732394,
          138.79307692307694,
          139.07692307692307,
          116.24538461538462,
          138.77538461538464,
          114.31140625
         ],
         "yaxis": "y"
        },
        {
         "customdata": [
          [
           "Nano",
           "black"
          ],
          [
           "Nano",
           "blue"
          ],
          [
           "Nano",
           "green"
          ],
          [
           "Nano",
           "white"
          ]
         ],
         "hovertemplate": "Modelo=%{customdata[0]}<br>Precio Actual (€)=%{x}<br>Precio Normal (€)=%{marker.size}<br>Color Principal=%{customdata[1]}<extra></extra>",
         "legendgroup": "Nano",
         "marker": {
          "color": "#EF553B",
          "size": [
           127.31747826086956,
           68.54583333333333,
           137.8923076923077,
           114.50576923076923
          ],
          "sizemode": "area",
          "sizeref": 0.35628076923076923,
          "symbol": "circle"
         },
         "mode": "markers",
         "name": "Nano",
         "orientation": "v",
         "showlegend": true,
         "type": "scatter",
         "x": [
          114.15182608695652,
          70.55833333333334,
          112.82307692307693,
          108.03038461538462
         ],
         "xaxis": "x",
         "y": [
          127.31747826086956,
          68.54583333333333,
          137.8923076923077,
          114.50576923076923
         ],
         "yaxis": "y"
        },
        {
         "customdata": [
          [
           "Tribase Reign 6",
           "black"
          ],
          [
           "Tribase Reign 6",
           "blue"
          ],
          [
           "Tribase Reign 6",
           "gray"
          ],
          [
           "Tribase Reign 6",
           "white"
          ]
         ],
         "hovertemplate": "Modelo=%{customdata[0]}<br>Precio Actual (€)=%{x}<br>Precio Normal (€)=%{marker.size}<br>Color Principal=%{customdata[1]}<extra></extra>",
         "legendgroup": "Tribase Reign 6",
         "marker": {
          "color": "#00cc96",
          "size": [
           106.0426923076923,
           142.5123076923077,
           139.5723076923077,
           124.67083333333333
          ],
          "sizemode": "area",
          "sizeref": 0.35628076923076923,
          "symbol": "circle"
         },
         "mode": "markers",
         "name": "Tribase Reign 6",
         "orientation": "v",
         "showlegend": true,
         "type": "scatter",
         "x": [
          97.79884615384616,
          114.17461538461538,
          115.77846153846153,
          123.59333333333335
         ],
         "xaxis": "x",
         "y": [
          106.0426923076923,
          142.5123076923077,
          139.5723076923077,
          124.67083333333333
         ],
         "yaxis": "y"
        }
       ],
       "layout": {
        "legend": {
         "itemsizing": "constant",
         "title": {
          "text": "Modelo"
         },
         "tracegroupgap": 0
        },
        "template": {
         "data": {
          "bar": [
           {
            "error_x": {
             "color": "#2a3f5f"
            },
            "error_y": {
             "color": "#2a3f5f"
            },
            "marker": {
             "line": {
              "color": "#E5ECF6",
              "width": 0.5
             },
             "pattern": {
              "fillmode": "overlay",
              "size": 10,
              "solidity": 0.2
             }
            },
            "type": "bar"
           }
          ],
          "barpolar": [
           {
            "marker": {
             "line": {
              "color": "#E5ECF6",
              "width": 0.5
             },
             "pattern": {
              "fillmode": "overlay",
              "size": 10,
              "solidity": 0.2
             }
            },
            "type": "barpolar"
           }
          ],
          "carpet": [
           {
            "aaxis": {
             "endlinecolor": "#2a3f5f",
             "gridcolor": "white",
             "linecolor": "white",
             "minorgridcolor": "white",
             "startlinecolor": "#2a3f5f"
            },
            "baxis": {
             "endlinecolor": "#2a3f5f",
             "gridcolor": "white",
             "linecolor": "white",
             "minorgridcolor": "white",
             "startlinecolor": "#2a3f5f"
            },
            "type": "carpet"
           }
          ],
          "choropleth": [
           {
            "colorbar": {
             "outlinewidth": 0,
             "ticks": ""
            },
            "type": "choropleth"
           }
          ],
          "contour": [
           {
            "colorbar": {
             "outlinewidth": 0,
             "ticks": ""
            },
            "colorscale": [
             [
              0,
              "#0d0887"
             ],
             [
              0.1111111111111111,
              "#46039f"
             ],
             [
              0.2222222222222222,
              "#7201a8"
             ],
             [
              0.3333333333333333,
              "#9c179e"
             ],
             [
              0.4444444444444444,
              "#bd3786"
             ],
             [
              0.5555555555555556,
              "#d8576b"
             ],
             [
              0.6666666666666666,
              "#ed7953"
             ],
             [
              0.7777777777777778,
              "#fb9f3a"
             ],
             [
              0.8888888888888888,
              "#fdca26"
             ],
             [
              1,
              "#f0f921"
             ]
            ],
            "type": "contour"
           }
          ],
          "contourcarpet": [
           {
            "colorbar": {
             "outlinewidth": 0,
             "ticks": ""
            },
            "type": "contourcarpet"
           }
          ],
          "heatmap": [
           {
            "colorbar": {
             "outlinewidth": 0,
             "ticks": ""
            },
            "colorscale": [
             [
              0,
              "#0d0887"
             ],
             [
              0.1111111111111111,
              "#46039f"
             ],
             [
              0.2222222222222222,
              "#7201a8"
             ],
             [
              0.3333333333333333,
              "#9c179e"
             ],
             [
              0.4444444444444444,
              "#bd3786"
             ],
             [
              0.5555555555555556,
              "#d8576b"
             ],
             [
              0.6666666666666666,
              "#ed7953"
             ],
             [
              0.7777777777777778,
              "#fb9f3a"
             ],
             [
              0.8888888888888888,
              "#fdca26"
             ],
             [
              1,
              "#f0f921"
             ]
            ],
            "type": "heatmap"
           }
          ],
          "heatmapgl": [
           {
            "colorbar": {
             "outlinewidth": 0,
             "ticks": ""
            },
            "colorscale": [
             [
              0,
              "#0d0887"
             ],
             [
              0.1111111111111111,
              "#46039f"
             ],
             [
              0.2222222222222222,
              "#7201a8"
             ],
             [
              0.3333333333333333,
              "#9c179e"
             ],
             [
              0.4444444444444444,
              "#bd3786"
             ],
             [
              0.5555555555555556,
              "#d8576b"
             ],
             [
              0.6666666666666666,
              "#ed7953"
             ],
             [
              0.7777777777777778,
              "#fb9f3a"
             ],
             [
              0.8888888888888888,
              "#fdca26"
             ],
             [
              1,
              "#f0f921"
             ]
            ],
            "type": "heatmapgl"
           }
          ],
          "histogram": [
           {
            "marker": {
             "pattern": {
              "fillmode": "overlay",
              "size": 10,
              "solidity": 0.2
             }
            },
            "type": "histogram"
           }
          ],
          "histogram2d": [
           {
            "colorbar": {
             "outlinewidth": 0,
             "ticks": ""
            },
            "colorscale": [
             [
              0,
              "#0d0887"
             ],
             [
              0.1111111111111111,
              "#46039f"
             ],
             [
              0.2222222222222222,
              "#7201a8"
             ],
             [
              0.3333333333333333,
              "#9c179e"
             ],
             [
              0.4444444444444444,
              "#bd3786"
             ],
             [
              0.5555555555555556,
              "#d8576b"
             ],
             [
              0.6666666666666666,
              "#ed7953"
             ],
             [
              0.7777777777777778,
              "#fb9f3a"
             ],
             [
              0.8888888888888888,
              "#fdca26"
             ],
             [
              1,
              "#f0f921"
             ]
            ],
            "type": "histogram2d"
           }
          ],
          "histogram2dcontour": [
           {
            "colorbar": {
             "outlinewidth": 0,
             "ticks": ""
            },
            "colorscale": [
             [
              0,
              "#0d0887"
             ],
             [
              0.1111111111111111,
              "#46039f"
             ],
             [
              0.2222222222222222,
              "#7201a8"
             ],
             [
              0.3333333333333333,
              "#9c179e"
             ],
             [
              0.4444444444444444,
              "#bd3786"
             ],
             [
              0.5555555555555556,
              "#d8576b"
             ],
             [
              0.6666666666666666,
              "#ed7953"
             ],
             [
              0.7777777777777778,
              "#fb9f3a"
             ],
             [
              0.8888888888888888,
              "#fdca26"
             ],
             [
              1,
              "#f0f921"
             ]
            ],
            "type": "histogram2dcontour"
           }
          ],
          "mesh3d": [
           {
            "colorbar": {
             "outlinewidth": 0,
             "ticks": ""
            },
            "type": "mesh3d"
           }
          ],
          "parcoords": [
           {
            "line": {
             "colorbar": {
              "outlinewidth": 0,
              "ticks": ""
             }
            },
            "type": "parcoords"
           }
          ],
          "pie": [
           {
            "automargin": true,
            "type": "pie"
           }
          ],
          "scatter": [
           {
            "fillpattern": {
             "fillmode": "overlay",
             "size": 10,
             "solidity": 0.2
            },
            "type": "scatter"
           }
          ],
          "scatter3d": [
           {
            "line": {
             "colorbar": {
              "outlinewidth": 0,
              "ticks": ""
             }
            },
            "marker": {
             "colorbar": {
              "outlinewidth": 0,
              "ticks": ""
             }
            },
            "type": "scatter3d"
           }
          ],
          "scattercarpet": [
           {
            "marker": {
             "colorbar": {
              "outlinewidth": 0,
              "ticks": ""
             }
            },
            "type": "scattercarpet"
           }
          ],
          "scattergeo": [
           {
            "marker": {
             "colorbar": {
              "outlinewidth": 0,
              "ticks": ""
             }
            },
            "type": "scattergeo"
           }
          ],
          "scattergl": [
           {
            "marker": {
             "colorbar": {
              "outlinewidth": 0,
              "ticks": ""
             }
            },
            "type": "scattergl"
           }
          ],
          "scattermapbox": [
           {
            "marker": {
             "colorbar": {
              "outlinewidth": 0,
              "ticks": ""
             }
            },
            "type": "scattermapbox"
           }
          ],
          "scatterpolar": [
           {
            "marker": {
             "colorbar": {
              "outlinewidth": 0,
              "ticks": ""
             }
            },
            "type": "scatterpolar"
           }
          ],
          "scatterpolargl": [
           {
            "marker": {
             "colorbar": {
              "outlinewidth": 0,
              "ticks": ""
             }
            },
            "type": "scatterpolargl"
           }
          ],
          "scatterternary": [
           {
            "marker": {
             "colorbar": {
              "outlinewidth": 0,
              "ticks": ""
             }
            },
            "type": "scatterternary"
           }
          ],
          "surface": [
           {
            "colorbar": {
             "outlinewidth": 0,
             "ticks": ""
            },
            "colorscale": [
             [
              0,
              "#0d0887"
             ],
             [
              0.1111111111111111,
              "#46039f"
             ],
             [
              0.2222222222222222,
              "#7201a8"
             ],
             [
              0.3333333333333333,
              "#9c179e"
             ],
             [
              0.4444444444444444,
              "#bd3786"
             ],
             [
              0.5555555555555556,
              "#d8576b"
             ],
             [
              0.6666666666666666,
              "#ed7953"
             ],
             [
              0.7777777777777778,
              "#fb9f3a"
             ],
             [
              0.8888888888888888,
              "#fdca26"
             ],
             [
              1,
              "#f0f921"
             ]
            ],
            "type": "surface"
           }
          ],
          "table": [
           {
            "cells": {
             "fill": {
              "color": "#EBF0F8"
             },
             "line": {
              "color": "white"
             }
            },
            "header": {
             "fill": {
              "color": "#C8D4E3"
             },
             "line": {
              "color": "white"
             }
            },
            "type": "table"
           }
          ]
         },
         "layout": {
          "annotationdefaults": {
           "arrowcolor": "#2a3f5f",
           "arrowhead": 0,
           "arrowwidth": 1
          },
          "autotypenumbers": "strict",
          "coloraxis": {
           "colorbar": {
            "outlinewidth": 0,
            "ticks": ""
           }
          },
          "colorscale": {
           "diverging": [
            [
             0,
             "#8e0152"
            ],
            [
             0.1,
             "#c51b7d"
            ],
            [
             0.2,
             "#de77ae"
            ],
            [
             0.3,
             "#f1b6da"
            ],
            [
             0.4,
             "#fde0ef"
            ],
            [
             0.5,
             "#f7f7f7"
            ],
            [
             0.6,
             "#e6f5d0"
            ],
            [
             0.7,
             "#b8e186"
            ],
            [
             0.8,
             "#7fbc41"
            ],
            [
             0.9,
             "#4d9221"
            ],
            [
             1,
             "#276419"
            ]
           ],
           "sequential": [
            [
             0,
             "#0d0887"
            ],
            [
             0.1111111111111111,
             "#46039f"
            ],
            [
             0.2222222222222222,
             "#7201a8"
            ],
            [
             0.3333333333333333,
             "#9c179e"
            ],
            [
             0.4444444444444444,
             "#bd3786"
            ],
            [
             0.5555555555555556,
             "#d8576b"
            ],
            [
             0.6666666666666666,
             "#ed7953"
            ],
            [
             0.7777777777777778,
             "#fb9f3a"
            ],
            [
             0.8888888888888888,
             "#fdca26"
            ],
            [
             1,
             "#f0f921"
            ]
           ],
           "sequentialminus": [
            [
             0,
             "#0d0887"
            ],
            [
             0.1111111111111111,
             "#46039f"
            ],
            [
             0.2222222222222222,
             "#7201a8"
            ],
            [
             0.3333333333333333,
             "#9c179e"
            ],
            [
             0.4444444444444444,
             "#bd3786"
            ],
            [
             0.5555555555555556,
             "#d8576b"
            ],
            [
             0.6666666666666666,
             "#ed7953"
            ],
            [
             0.7777777777777778,
             "#fb9f3a"
            ],
            [
             0.8888888888888888,
             "#fdca26"
            ],
            [
             1,
             "#f0f921"
            ]
           ]
          },
          "colorway": [
           "#636efa",
           "#EF553B",
           "#00cc96",
           "#ab63fa",
           "#FFA15A",
           "#19d3f3",
           "#FF6692",
           "#B6E880",
           "#FF97FF",
           "#FECB52"
          ],
          "font": {
           "color": "#2a3f5f"
          },
          "geo": {
           "bgcolor": "white",
           "lakecolor": "white",
           "landcolor": "#E5ECF6",
           "showlakes": true,
           "showland": true,
           "subunitcolor": "white"
          },
          "hoverlabel": {
           "align": "left"
          },
          "hovermode": "closest",
          "mapbox": {
           "style": "light"
          },
          "paper_bgcolor": "white",
          "plot_bgcolor": "#E5ECF6",
          "polar": {
           "angularaxis": {
            "gridcolor": "white",
            "linecolor": "white",
            "ticks": ""
           },
           "bgcolor": "#E5ECF6",
           "radialaxis": {
            "gridcolor": "white",
            "linecolor": "white",
            "ticks": ""
           }
          },
          "scene": {
           "xaxis": {
            "backgroundcolor": "#E5ECF6",
            "gridcolor": "white",
            "gridwidth": 2,
            "linecolor": "white",
            "showbackground": true,
            "ticks": "",
            "zerolinecolor": "white"
           },
           "yaxis": {
            "backgroundcolor": "#E5ECF6",
            "gridcolor": "white",
            "gridwidth": 2,
            "linecolor": "white",
            "showbackground": true,
            "ticks": "",
            "zerolinecolor": "white"
           },
           "zaxis": {
            "backgroundcolor": "#E5ECF6",
            "gridcolor": "white",
            "gridwidth": 2,
            "linecolor": "white",
            "showbackground": true,
            "ticks": "",
            "zerolinecolor": "white"
           }
          },
          "shapedefaults": {
           "line": {
            "color": "#2a3f5f"
           }
          },
          "ternary": {
           "aaxis": {
            "gridcolor": "white",
            "linecolor": "white",
            "ticks": ""
           },
           "baxis": {
            "gridcolor": "white",
            "linecolor": "white",
            "ticks": ""
           },
           "bgcolor": "#E5ECF6",
           "caxis": {
            "gridcolor": "white",
            "linecolor": "white",
            "ticks": ""
           }
          },
          "title": {
           "x": 0.05
          },
          "xaxis": {
           "automargin": true,
           "gridcolor": "white",
           "linecolor": "white",
           "ticks": "",
           "title": {
            "standoff": 15
           },
           "zerolinecolor": "white",
           "zerolinewidth": 2
          },
          "yaxis": {
           "automargin": true,
           "gridcolor": "white",
           "linecolor": "white",
           "ticks": "",
           "title": {
            "standoff": 15
           },
           "zerolinecolor": "white",
           "zerolinewidth": 2
          }
         }
        },
        "title": {
         "text": "Gráfico de Precios Segun Variación por Color en Modelos Más Importantes"
        },
        "xaxis": {
         "anchor": "y",
         "domain": [
          0,
          1
         ],
         "title": {
          "text": "Precio Actual (€)"
         }
        },
        "yaxis": {
         "anchor": "x",
         "domain": [
          0,
          1
         ],
         "title": {
          "text": "Precio Normal (€)"
         }
        }
       }
      }
     },
     "metadata": {},
     "output_type": "display_data"
    },
    {
     "data": {
      "application/vnd.plotly.v1+json": {
       "config": {
        "plotlyServerURL": "https://plot.ly"
       },
       "data": [
        {
         "customdata": [
          [
           "Nike",
           "black"
          ]
         ],
         "hovertemplate": "brandt=%{customdata[0]}<br>main_color=%{customdata[1]}<br>avg_current_price=%{x}<br>avg_normal_price=%{marker.size}<extra></extra>",
         "legendgroup": "Nike, black",
         "marker": {
          "color": "#636efa",
          "size": [
           110.76864583333334
          ],
          "sizemode": "area",
          "sizeref": 0.41900624999999997,
          "symbol": "circle"
         },
         "mode": "markers",
         "name": "Nike, black",
         "orientation": "v",
         "showlegend": true,
         "type": "scatter",
         "x": [
          88.55286458333335
         ],
         "xaxis": "x",
         "y": [
          110.76864583333334
         ],
         "yaxis": "y"
        },
        {
         "customdata": [
          [
           "Nike",
           "blue"
          ]
         ],
         "hovertemplate": "brandt=%{customdata[0]}<br>main_color=%{customdata[1]}<br>avg_current_price=%{x}<br>avg_normal_price=%{marker.size}<extra></extra>",
         "legendgroup": "Nike, blue",
         "marker": {
          "color": "#636efa",
          "size": [
           139.97538461538463
          ],
          "sizemode": "area",
          "sizeref": 0.41900624999999997,
          "symbol": "diamond"
         },
         "mode": "markers",
         "name": "Nike, blue",
         "orientation": "v",
         "showlegend": true,
         "type": "scatter",
         "x": [
          124.14750000000001
         ],
         "xaxis": "x",
         "y": [
          139.97538461538463
         ],
         "yaxis": "y"
        },
        {
         "customdata": [
          [
           "Nike",
           "brown"
          ]
         ],
         "hovertemplate": "brandt=%{customdata[0]}<br>main_color=%{customdata[1]}<br>avg_current_price=%{x}<br>avg_normal_price=%{marker.size}<extra></extra>",
         "legendgroup": "Nike, brown",
         "marker": {
          "color": "#636efa",
          "size": [
           139.07692307692307
          ],
          "sizemode": "area",
          "sizeref": 0.41900624999999997,
          "symbol": "square"
         },
         "mode": "markers",
         "name": "Nike, brown",
         "orientation": "v",
         "showlegend": true,
         "type": "scatter",
         "x": [
          118.08461538461538
         ],
         "xaxis": "x",
         "y": [
          139.07692307692307
         ],
         "yaxis": "y"
        },
        {
         "customdata": [
          [
           "Nike",
           "green"
          ]
         ],
         "hovertemplate": "brandt=%{customdata[0]}<br>main_color=%{customdata[1]}<br>avg_current_price=%{x}<br>avg_normal_price=%{marker.size}<extra></extra>",
         "legendgroup": "Nike, green",
         "marker": {
          "color": "#636efa",
          "size": [
           116.24538461538462
          ],
          "sizemode": "area",
          "sizeref": 0.41900624999999997,
          "symbol": "x"
         },
         "mode": "markers",
         "name": "Nike, green",
         "orientation": "v",
         "showlegend": true,
         "type": "scatter",
         "x": [
          80.11384615384615
         ],
         "xaxis": "x",
         "y": [
          116.24538461538462
         ],
         "yaxis": "y"
        },
        {
         "customdata": [
          [
           "Nike",
           "grey"
          ]
         ],
         "hovertemplate": "brandt=%{customdata[0]}<br>main_color=%{customdata[1]}<br>avg_current_price=%{x}<br>avg_normal_price=%{marker.size}<extra></extra>",
         "legendgroup": "Nike, grey",
         "marker": {
          "color": "#636efa",
          "size": [
           79.8875
          ],
          "sizemode": "area",
          "sizeref": 0.41900624999999997,
          "symbol": "cross"
         },
         "mode": "markers",
         "name": "Nike, grey",
         "orientation": "v",
         "showlegend": true,
         "type": "scatter",
         "x": [
          80.86749999999999
         ],
         "xaxis": "x",
         "y": [
          79.8875
         ],
         "yaxis": "y"
        },
        {
         "customdata": [
          [
           "Nike",
           "pink"
          ]
         ],
         "hovertemplate": "brandt=%{customdata[0]}<br>main_color=%{customdata[1]}<br>avg_current_price=%{x}<br>avg_normal_price=%{marker.size}<extra></extra>",
         "legendgroup": "Nike, pink",
         "marker": {
          "color": "#636efa",
          "size": [
           140.86846153846153
          ],
          "sizemode": "area",
          "sizeref": 0.41900624999999997,
          "symbol": "circle"
         },
         "mode": "markers",
         "name": "Nike, pink",
         "orientation": "v",
         "showlegend": true,
         "type": "scatter",
         "x": [
          105.13461538461539
         ],
         "xaxis": "x",
         "y": [
          140.86846153846153
         ],
         "yaxis": "y"
        },
        {
         "customdata": [
          [
           "Nike",
           "violet"
          ]
         ],
         "hovertemplate": "brandt=%{customdata[0]}<br>main_color=%{customdata[1]}<br>avg_current_price=%{x}<br>avg_normal_price=%{marker.size}<extra></extra>",
         "legendgroup": "Nike, violet",
         "marker": {
          "color": "#636efa",
          "size": [
           138.77538461538464
          ],
          "sizemode": "area",
          "sizeref": 0.41900624999999997,
          "symbol": "diamond"
         },
         "mode": "markers",
         "name": "Nike, violet",
         "orientation": "v",
         "showlegend": true,
         "type": "scatter",
         "x": [
          117.76307692307692
         ],
         "xaxis": "x",
         "y": [
          138.77538461538464
         ],
         "yaxis": "y"
        },
        {
         "customdata": [
          [
           "Nike",
           "white"
          ]
         ],
         "hovertemplate": "brandt=%{customdata[0]}<br>main_color=%{customdata[1]}<br>avg_current_price=%{x}<br>avg_normal_price=%{marker.size}<extra></extra>",
         "legendgroup": "Nike, white",
         "marker": {
          "color": "#636efa",
          "size": [
           117.65101123595507
          ],
          "sizemode": "area",
          "sizeref": 0.41900624999999997,
          "symbol": "square"
         },
         "mode": "markers",
         "name": "Nike, white",
         "orientation": "v",
         "showlegend": true,
         "type": "scatter",
         "x": [
          108.1294382022472
         ],
         "xaxis": "x",
         "y": [
          117.65101123595507
         ],
         "yaxis": "y"
        },
        {
         "customdata": [
          [
           "Puma",
           "black"
          ]
         ],
         "hovertemplate": "brandt=%{customdata[0]}<br>main_color=%{customdata[1]}<br>avg_current_price=%{x}<br>avg_normal_price=%{marker.size}<extra></extra>",
         "legendgroup": "Puma, black",
         "marker": {
          "color": "#EF553B",
          "size": [
           120.38026315789473
          ],
          "sizemode": "area",
          "sizeref": 0.41900624999999997,
          "symbol": "circle"
         },
         "mode": "markers",
         "name": "Puma, black",
         "orientation": "v",
         "showlegend": true,
         "type": "scatter",
         "x": [
          113.3828947368421
         ],
         "xaxis": "x",
         "y": [
          120.38026315789473
         ],
         "yaxis": "y"
        },
        {
         "customdata": [
          [
           "Puma",
           "gray"
          ]
         ],
         "hovertemplate": "brandt=%{customdata[0]}<br>main_color=%{customdata[1]}<br>avg_current_price=%{x}<br>avg_normal_price=%{marker.size}<extra></extra>",
         "legendgroup": "Puma, gray",
         "marker": {
          "color": "#EF553B",
          "size": [
           141.27
          ],
          "sizemode": "area",
          "sizeref": 0.41900624999999997,
          "symbol": "x"
         },
         "mode": "markers",
         "name": "Puma, gray",
         "orientation": "v",
         "showlegend": true,
         "type": "scatter",
         "x": [
          116.62307692307692
         ],
         "xaxis": "x",
         "y": [
          141.27
         ],
         "yaxis": "y"
        },
        {
         "customdata": [
          [
           "Reebok",
           "black"
          ]
         ],
         "hovertemplate": "brandt=%{customdata[0]}<br>main_color=%{customdata[1]}<br>avg_current_price=%{x}<br>avg_normal_price=%{marker.size}<extra></extra>",
         "legendgroup": "Reebok, black",
         "marker": {
          "color": "#00cc96",
          "size": [
           113.44803921568628
          ],
          "sizemode": "area",
          "sizeref": 0.41900624999999997,
          "symbol": "circle"
         },
         "mode": "markers",
         "name": "Reebok, black",
         "orientation": "v",
         "showlegend": true,
         "type": "scatter",
         "x": [
          102.57127450980393
         ],
         "xaxis": "x",
         "y": [
          113.44803921568628
         ],
         "yaxis": "y"
        },
        {
         "customdata": [
          [
           "Reebok",
           "blue"
          ]
         ],
         "hovertemplate": "brandt=%{customdata[0]}<br>main_color=%{customdata[1]}<br>avg_current_price=%{x}<br>avg_normal_price=%{marker.size}<extra></extra>",
         "legendgroup": "Reebok, blue",
         "marker": {
          "color": "#00cc96",
          "size": [
           69.65458333333333
          ],
          "sizemode": "area",
          "sizeref": 0.41900624999999997,
          "symbol": "diamond"
         },
         "mode": "markers",
         "name": "Reebok, blue",
         "orientation": "v",
         "showlegend": true,
         "type": "scatter",
         "x": [
          70.62958333333333
         ],
         "xaxis": "x",
         "y": [
          69.65458333333333
         ],
         "yaxis": "y"
        },
        {
         "customdata": [
          [
           "Reebok",
           "green"
          ]
         ],
         "hovertemplate": "brandt=%{customdata[0]}<br>main_color=%{customdata[1]}<br>avg_current_price=%{x}<br>avg_normal_price=%{marker.size}<extra></extra>",
         "legendgroup": "Reebok, green",
         "marker": {
          "color": "#00cc96",
          "size": [
           137.8923076923077
          ],
          "sizemode": "area",
          "sizeref": 0.41900624999999997,
          "symbol": "x"
         },
         "mode": "markers",
         "name": "Reebok, green",
         "orientation": "v",
         "showlegend": true,
         "type": "scatter",
         "x": [
          112.82307692307693
         ],
         "xaxis": "x",
         "y": [
          137.8923076923077
         ],
         "yaxis": "y"
        },
        {
         "customdata": [
          [
           "Reebok",
           "grey"
          ]
         ],
         "hovertemplate": "brandt=%{customdata[0]}<br>main_color=%{customdata[1]}<br>avg_current_price=%{x}<br>avg_normal_price=%{marker.size}<extra></extra>",
         "legendgroup": "Reebok, grey",
         "marker": {
          "color": "#00cc96",
          "size": [
           125.69791666666667
          ],
          "sizemode": "area",
          "sizeref": 0.41900624999999997,
          "symbol": "cross"
         },
         "mode": "markers",
         "name": "Reebok, grey",
         "orientation": "v",
         "showlegend": true,
         "type": "scatter",
         "x": [
          124.73916666666668
         ],
         "xaxis": "x",
         "y": [
          125.69791666666667
         ],
         "yaxis": "y"
        },
        {
         "customdata": [
          [
           "Reebok",
           "white"
          ]
         ],
         "hovertemplate": "brandt=%{customdata[0]}<br>main_color=%{customdata[1]}<br>avg_current_price=%{x}<br>avg_normal_price=%{marker.size}<extra></extra>",
         "legendgroup": "Reebok, white",
         "marker": {
          "color": "#00cc96",
          "size": [
           91.49959999999999
          ],
          "sizemode": "area",
          "sizeref": 0.41900624999999997,
          "symbol": "square"
         },
         "mode": "markers",
         "name": "Reebok, white",
         "orientation": "v",
         "showlegend": true,
         "type": "scatter",
         "x": [
          88.9682
         ],
         "xaxis": "x",
         "y": [
          91.49959999999999
         ],
         "yaxis": "y"
        },
        {
         "customdata": [
          [
           "Tyr",
           "black"
          ]
         ],
         "hovertemplate": "brandt=%{customdata[0]}<br>main_color=%{customdata[1]}<br>avg_current_price=%{x}<br>avg_normal_price=%{marker.size}<extra></extra>",
         "legendgroup": "Tyr, black",
         "marker": {
          "color": "#ab63fa",
          "size": [
           84.50384615384615
          ],
          "sizemode": "area",
          "sizeref": 0.41900624999999997,
          "symbol": "circle"
         },
         "mode": "markers",
         "name": "Tyr, black",
         "orientation": "v",
         "showlegend": true,
         "type": "scatter",
         "x": [
          67.4376923076923
         ],
         "xaxis": "x",
         "y": [
          84.50384615384615
         ],
         "yaxis": "y"
        },
        {
         "customdata": [
          [
           "Tyr",
           "grey"
          ]
         ],
         "hovertemplate": "brandt=%{customdata[0]}<br>main_color=%{customdata[1]}<br>avg_current_price=%{x}<br>avg_normal_price=%{marker.size}<extra></extra>",
         "legendgroup": "Tyr, grey",
         "marker": {
          "color": "#ab63fa",
          "size": [
           167.6025
          ],
          "sizemode": "area",
          "sizeref": 0.41900624999999997,
          "symbol": "cross"
         },
         "mode": "markers",
         "name": "Tyr, grey",
         "orientation": "v",
         "showlegend": true,
         "type": "scatter",
         "x": [
          163.58666666666667
         ],
         "xaxis": "x",
         "y": [
          167.6025
         ],
         "yaxis": "y"
        },
        {
         "customdata": [
          [
           "Tyr",
           "white"
          ]
         ],
         "hovertemplate": "brandt=%{customdata[0]}<br>main_color=%{customdata[1]}<br>avg_current_price=%{x}<br>avg_normal_price=%{marker.size}<extra></extra>",
         "legendgroup": "Tyr, white",
         "marker": {
          "color": "#ab63fa",
          "size": [
           158.45461538461538
          ],
          "sizemode": "area",
          "sizeref": 0.41900624999999997,
          "symbol": "square"
         },
         "mode": "markers",
         "name": "Tyr, white",
         "orientation": "v",
         "showlegend": true,
         "type": "scatter",
         "x": [
          159.4930769230769
         ],
         "xaxis": "x",
         "y": [
          158.45461538461538
         ],
         "yaxis": "y"
        },
        {
         "customdata": [
          [
           "Under Armour",
           "black"
          ]
         ],
         "hovertemplate": "brandt=%{customdata[0]}<br>main_color=%{customdata[1]}<br>avg_current_price=%{x}<br>avg_normal_price=%{marker.size}<extra></extra>",
         "legendgroup": "Under Armour, black",
         "marker": {
          "color": "#FFA15A",
          "size": [
           98.58076923076923
          ],
          "sizemode": "area",
          "sizeref": 0.41900624999999997,
          "symbol": "circle"
         },
         "mode": "markers",
         "name": "Under Armour, black",
         "orientation": "v",
         "showlegend": true,
         "type": "scatter",
         "x": [
          83.83871794871796
         ],
         "xaxis": "x",
         "y": [
          98.58076923076923
         ],
         "yaxis": "y"
        },
        {
         "customdata": [
          [
           "Under Armour",
           "blue"
          ]
         ],
         "hovertemplate": "brandt=%{customdata[0]}<br>main_color=%{customdata[1]}<br>avg_current_price=%{x}<br>avg_normal_price=%{marker.size}<extra></extra>",
         "legendgroup": "Under Armour, blue",
         "marker": {
          "color": "#FFA15A",
          "size": [
           142.5123076923077
          ],
          "sizemode": "area",
          "sizeref": 0.41900624999999997,
          "symbol": "diamond"
         },
         "mode": "markers",
         "name": "Under Armour, blue",
         "orientation": "v",
         "showlegend": true,
         "type": "scatter",
         "x": [
          114.17461538461538
         ],
         "xaxis": "x",
         "y": [
          142.5123076923077
         ],
         "yaxis": "y"
        },
        {
         "customdata": [
          [
           "Under Armour",
           "white"
          ]
         ],
         "hovertemplate": "brandt=%{customdata[0]}<br>main_color=%{customdata[1]}<br>avg_current_price=%{x}<br>avg_normal_price=%{marker.size}<extra></extra>",
         "legendgroup": "Under Armour, white",
         "marker": {
          "color": "#FFA15A",
          "size": [
           124.67083333333333
          ],
          "sizemode": "area",
          "sizeref": 0.41900624999999997,
          "symbol": "square"
         },
         "mode": "markers",
         "name": "Under Armour, white",
         "orientation": "v",
         "showlegend": true,
         "type": "scatter",
         "x": [
          123.59333333333335
         ],
         "xaxis": "x",
         "y": [
          124.67083333333333
         ],
         "yaxis": "y"
        },
        {
         "customdata": [
          [
           "Under Armour",
           "gray"
          ]
         ],
         "hovertemplate": "brandt=%{customdata[0]}<br>main_color=%{customdata[1]}<br>avg_current_price=%{x}<br>avg_normal_price=%{marker.size}<extra></extra>",
         "legendgroup": "Under Armour, gray",
         "marker": {
          "color": "#FFA15A",
          "size": [
           139.5723076923077
          ],
          "sizemode": "area",
          "sizeref": 0.41900624999999997,
          "symbol": "x"
         },
         "mode": "markers",
         "name": "Under Armour, gray",
         "orientation": "v",
         "showlegend": true,
         "type": "scatter",
         "x": [
          115.77846153846153
         ],
         "xaxis": "x",
         "y": [
          139.5723076923077
         ],
         "yaxis": "y"
        }
       ],
       "layout": {
        "legend": {
         "itemsizing": "constant",
         "title": {
          "text": "brandt, main_color"
         },
         "tracegroupgap": 0
        },
        "template": {
         "data": {
          "bar": [
           {
            "error_x": {
             "color": "#2a3f5f"
            },
            "error_y": {
             "color": "#2a3f5f"
            },
            "marker": {
             "line": {
              "color": "#E5ECF6",
              "width": 0.5
             },
             "pattern": {
              "fillmode": "overlay",
              "size": 10,
              "solidity": 0.2
             }
            },
            "type": "bar"
           }
          ],
          "barpolar": [
           {
            "marker": {
             "line": {
              "color": "#E5ECF6",
              "width": 0.5
             },
             "pattern": {
              "fillmode": "overlay",
              "size": 10,
              "solidity": 0.2
             }
            },
            "type": "barpolar"
           }
          ],
          "carpet": [
           {
            "aaxis": {
             "endlinecolor": "#2a3f5f",
             "gridcolor": "white",
             "linecolor": "white",
             "minorgridcolor": "white",
             "startlinecolor": "#2a3f5f"
            },
            "baxis": {
             "endlinecolor": "#2a3f5f",
             "gridcolor": "white",
             "linecolor": "white",
             "minorgridcolor": "white",
             "startlinecolor": "#2a3f5f"
            },
            "type": "carpet"
           }
          ],
          "choropleth": [
           {
            "colorbar": {
             "outlinewidth": 0,
             "ticks": ""
            },
            "type": "choropleth"
           }
          ],
          "contour": [
           {
            "colorbar": {
             "outlinewidth": 0,
             "ticks": ""
            },
            "colorscale": [
             [
              0,
              "#0d0887"
             ],
             [
              0.1111111111111111,
              "#46039f"
             ],
             [
              0.2222222222222222,
              "#7201a8"
             ],
             [
              0.3333333333333333,
              "#9c179e"
             ],
             [
              0.4444444444444444,
              "#bd3786"
             ],
             [
              0.5555555555555556,
              "#d8576b"
             ],
             [
              0.6666666666666666,
              "#ed7953"
             ],
             [
              0.7777777777777778,
              "#fb9f3a"
             ],
             [
              0.8888888888888888,
              "#fdca26"
             ],
             [
              1,
              "#f0f921"
             ]
            ],
            "type": "contour"
           }
          ],
          "contourcarpet": [
           {
            "colorbar": {
             "outlinewidth": 0,
             "ticks": ""
            },
            "type": "contourcarpet"
           }
          ],
          "heatmap": [
           {
            "colorbar": {
             "outlinewidth": 0,
             "ticks": ""
            },
            "colorscale": [
             [
              0,
              "#0d0887"
             ],
             [
              0.1111111111111111,
              "#46039f"
             ],
             [
              0.2222222222222222,
              "#7201a8"
             ],
             [
              0.3333333333333333,
              "#9c179e"
             ],
             [
              0.4444444444444444,
              "#bd3786"
             ],
             [
              0.5555555555555556,
              "#d8576b"
             ],
             [
              0.6666666666666666,
              "#ed7953"
             ],
             [
              0.7777777777777778,
              "#fb9f3a"
             ],
             [
              0.8888888888888888,
              "#fdca26"
             ],
             [
              1,
              "#f0f921"
             ]
            ],
            "type": "heatmap"
           }
          ],
          "heatmapgl": [
           {
            "colorbar": {
             "outlinewidth": 0,
             "ticks": ""
            },
            "colorscale": [
             [
              0,
              "#0d0887"
             ],
             [
              0.1111111111111111,
              "#46039f"
             ],
             [
              0.2222222222222222,
              "#7201a8"
             ],
             [
              0.3333333333333333,
              "#9c179e"
             ],
             [
              0.4444444444444444,
              "#bd3786"
             ],
             [
              0.5555555555555556,
              "#d8576b"
             ],
             [
              0.6666666666666666,
              "#ed7953"
             ],
             [
              0.7777777777777778,
              "#fb9f3a"
             ],
             [
              0.8888888888888888,
              "#fdca26"
             ],
             [
              1,
              "#f0f921"
             ]
            ],
            "type": "heatmapgl"
           }
          ],
          "histogram": [
           {
            "marker": {
             "pattern": {
              "fillmode": "overlay",
              "size": 10,
              "solidity": 0.2
             }
            },
            "type": "histogram"
           }
          ],
          "histogram2d": [
           {
            "colorbar": {
             "outlinewidth": 0,
             "ticks": ""
            },
            "colorscale": [
             [
              0,
              "#0d0887"
             ],
             [
              0.1111111111111111,
              "#46039f"
             ],
             [
              0.2222222222222222,
              "#7201a8"
             ],
             [
              0.3333333333333333,
              "#9c179e"
             ],
             [
              0.4444444444444444,
              "#bd3786"
             ],
             [
              0.5555555555555556,
              "#d8576b"
             ],
             [
              0.6666666666666666,
              "#ed7953"
             ],
             [
              0.7777777777777778,
              "#fb9f3a"
             ],
             [
              0.8888888888888888,
              "#fdca26"
             ],
             [
              1,
              "#f0f921"
             ]
            ],
            "type": "histogram2d"
           }
          ],
          "histogram2dcontour": [
           {
            "colorbar": {
             "outlinewidth": 0,
             "ticks": ""
            },
            "colorscale": [
             [
              0,
              "#0d0887"
             ],
             [
              0.1111111111111111,
              "#46039f"
             ],
             [
              0.2222222222222222,
              "#7201a8"
             ],
             [
              0.3333333333333333,
              "#9c179e"
             ],
             [
              0.4444444444444444,
              "#bd3786"
             ],
             [
              0.5555555555555556,
              "#d8576b"
             ],
             [
              0.6666666666666666,
              "#ed7953"
             ],
             [
              0.7777777777777778,
              "#fb9f3a"
             ],
             [
              0.8888888888888888,
              "#fdca26"
             ],
             [
              1,
              "#f0f921"
             ]
            ],
            "type": "histogram2dcontour"
           }
          ],
          "mesh3d": [
           {
            "colorbar": {
             "outlinewidth": 0,
             "ticks": ""
            },
            "type": "mesh3d"
           }
          ],
          "parcoords": [
           {
            "line": {
             "colorbar": {
              "outlinewidth": 0,
              "ticks": ""
             }
            },
            "type": "parcoords"
           }
          ],
          "pie": [
           {
            "automargin": true,
            "type": "pie"
           }
          ],
          "scatter": [
           {
            "fillpattern": {
             "fillmode": "overlay",
             "size": 10,
             "solidity": 0.2
            },
            "type": "scatter"
           }
          ],
          "scatter3d": [
           {
            "line": {
             "colorbar": {
              "outlinewidth": 0,
              "ticks": ""
             }
            },
            "marker": {
             "colorbar": {
              "outlinewidth": 0,
              "ticks": ""
             }
            },
            "type": "scatter3d"
           }
          ],
          "scattercarpet": [
           {
            "marker": {
             "colorbar": {
              "outlinewidth": 0,
              "ticks": ""
             }
            },
            "type": "scattercarpet"
           }
          ],
          "scattergeo": [
           {
            "marker": {
             "colorbar": {
              "outlinewidth": 0,
              "ticks": ""
             }
            },
            "type": "scattergeo"
           }
          ],
          "scattergl": [
           {
            "marker": {
             "colorbar": {
              "outlinewidth": 0,
              "ticks": ""
             }
            },
            "type": "scattergl"
           }
          ],
          "scattermapbox": [
           {
            "marker": {
             "colorbar": {
              "outlinewidth": 0,
              "ticks": ""
             }
            },
            "type": "scattermapbox"
           }
          ],
          "scatterpolar": [
           {
            "marker": {
             "colorbar": {
              "outlinewidth": 0,
              "ticks": ""
             }
            },
            "type": "scatterpolar"
           }
          ],
          "scatterpolargl": [
           {
            "marker": {
             "colorbar": {
              "outlinewidth": 0,
              "ticks": ""
             }
            },
            "type": "scatterpolargl"
           }
          ],
          "scatterternary": [
           {
            "marker": {
             "colorbar": {
              "outlinewidth": 0,
              "ticks": ""
             }
            },
            "type": "scatterternary"
           }
          ],
          "surface": [
           {
            "colorbar": {
             "outlinewidth": 0,
             "ticks": ""
            },
            "colorscale": [
             [
              0,
              "#0d0887"
             ],
             [
              0.1111111111111111,
              "#46039f"
             ],
             [
              0.2222222222222222,
              "#7201a8"
             ],
             [
              0.3333333333333333,
              "#9c179e"
             ],
             [
              0.4444444444444444,
              "#bd3786"
             ],
             [
              0.5555555555555556,
              "#d8576b"
             ],
             [
              0.6666666666666666,
              "#ed7953"
             ],
             [
              0.7777777777777778,
              "#fb9f3a"
             ],
             [
              0.8888888888888888,
              "#fdca26"
             ],
             [
              1,
              "#f0f921"
             ]
            ],
            "type": "surface"
           }
          ],
          "table": [
           {
            "cells": {
             "fill": {
              "color": "#EBF0F8"
             },
             "line": {
              "color": "white"
             }
            },
            "header": {
             "fill": {
              "color": "#C8D4E3"
             },
             "line": {
              "color": "white"
             }
            },
            "type": "table"
           }
          ]
         },
         "layout": {
          "annotationdefaults": {
           "arrowcolor": "#2a3f5f",
           "arrowhead": 0,
           "arrowwidth": 1
          },
          "autotypenumbers": "strict",
          "coloraxis": {
           "colorbar": {
            "outlinewidth": 0,
            "ticks": ""
           }
          },
          "colorscale": {
           "diverging": [
            [
             0,
             "#8e0152"
            ],
            [
             0.1,
             "#c51b7d"
            ],
            [
             0.2,
             "#de77ae"
            ],
            [
             0.3,
             "#f1b6da"
            ],
            [
             0.4,
             "#fde0ef"
            ],
            [
             0.5,
             "#f7f7f7"
            ],
            [
             0.6,
             "#e6f5d0"
            ],
            [
             0.7,
             "#b8e186"
            ],
            [
             0.8,
             "#7fbc41"
            ],
            [
             0.9,
             "#4d9221"
            ],
            [
             1,
             "#276419"
            ]
           ],
           "sequential": [
            [
             0,
             "#0d0887"
            ],
            [
             0.1111111111111111,
             "#46039f"
            ],
            [
             0.2222222222222222,
             "#7201a8"
            ],
            [
             0.3333333333333333,
             "#9c179e"
            ],
            [
             0.4444444444444444,
             "#bd3786"
            ],
            [
             0.5555555555555556,
             "#d8576b"
            ],
            [
             0.6666666666666666,
             "#ed7953"
            ],
            [
             0.7777777777777778,
             "#fb9f3a"
            ],
            [
             0.8888888888888888,
             "#fdca26"
            ],
            [
             1,
             "#f0f921"
            ]
           ],
           "sequentialminus": [
            [
             0,
             "#0d0887"
            ],
            [
             0.1111111111111111,
             "#46039f"
            ],
            [
             0.2222222222222222,
             "#7201a8"
            ],
            [
             0.3333333333333333,
             "#9c179e"
            ],
            [
             0.4444444444444444,
             "#bd3786"
            ],
            [
             0.5555555555555556,
             "#d8576b"
            ],
            [
             0.6666666666666666,
             "#ed7953"
            ],
            [
             0.7777777777777778,
             "#fb9f3a"
            ],
            [
             0.8888888888888888,
             "#fdca26"
            ],
            [
             1,
             "#f0f921"
            ]
           ]
          },
          "colorway": [
           "#636efa",
           "#EF553B",
           "#00cc96",
           "#ab63fa",
           "#FFA15A",
           "#19d3f3",
           "#FF6692",
           "#B6E880",
           "#FF97FF",
           "#FECB52"
          ],
          "font": {
           "color": "#2a3f5f"
          },
          "geo": {
           "bgcolor": "white",
           "lakecolor": "white",
           "landcolor": "#E5ECF6",
           "showlakes": true,
           "showland": true,
           "subunitcolor": "white"
          },
          "hoverlabel": {
           "align": "left"
          },
          "hovermode": "closest",
          "mapbox": {
           "style": "light"
          },
          "paper_bgcolor": "white",
          "plot_bgcolor": "#E5ECF6",
          "polar": {
           "angularaxis": {
            "gridcolor": "white",
            "linecolor": "white",
            "ticks": ""
           },
           "bgcolor": "#E5ECF6",
           "radialaxis": {
            "gridcolor": "white",
            "linecolor": "white",
            "ticks": ""
           }
          },
          "scene": {
           "xaxis": {
            "backgroundcolor": "#E5ECF6",
            "gridcolor": "white",
            "gridwidth": 2,
            "linecolor": "white",
            "showbackground": true,
            "ticks": "",
            "zerolinecolor": "white"
           },
           "yaxis": {
            "backgroundcolor": "#E5ECF6",
            "gridcolor": "white",
            "gridwidth": 2,
            "linecolor": "white",
            "showbackground": true,
            "ticks": "",
            "zerolinecolor": "white"
           },
           "zaxis": {
            "backgroundcolor": "#E5ECF6",
            "gridcolor": "white",
            "gridwidth": 2,
            "linecolor": "white",
            "showbackground": true,
            "ticks": "",
            "zerolinecolor": "white"
           }
          },
          "shapedefaults": {
           "line": {
            "color": "#2a3f5f"
           }
          },
          "ternary": {
           "aaxis": {
            "gridcolor": "white",
            "linecolor": "white",
            "ticks": ""
           },
           "baxis": {
            "gridcolor": "white",
            "linecolor": "white",
            "ticks": ""
           },
           "bgcolor": "#E5ECF6",
           "caxis": {
            "gridcolor": "white",
            "linecolor": "white",
            "ticks": ""
           }
          },
          "title": {
           "x": 0.05
          },
          "xaxis": {
           "automargin": true,
           "gridcolor": "white",
           "linecolor": "white",
           "ticks": "",
           "title": {
            "standoff": 15
           },
           "zerolinecolor": "white",
           "zerolinewidth": 2
          },
          "yaxis": {
           "automargin": true,
           "gridcolor": "white",
           "linecolor": "white",
           "ticks": "",
           "title": {
            "standoff": 15
           },
           "zerolinecolor": "white",
           "zerolinewidth": 2
          }
         }
        },
        "title": {
         "text": "Promedio de Precios: Actual vs Normal por Marca y Color"
        },
        "xaxis": {
         "anchor": "y",
         "domain": [
          0,
          1
         ],
         "title": {
          "text": "avg_current_price"
         }
        },
        "yaxis": {
         "anchor": "x",
         "domain": [
          0,
          1
         ],
         "title": {
          "text": "avg_normal_price"
         }
        }
       }
      }
     },
     "metadata": {},
     "output_type": "display_data"
    }
   ],
   "source": [
    "g.ejecutar_graficos(df)"
   ]
  }
 ],
 "metadata": {
  "kernelspec": {
   "display_name": "primerlab",
   "language": "python",
   "name": "python3"
  },
  "language_info": {
   "codemirror_mode": {
    "name": "ipython",
    "version": 3
   },
   "file_extension": ".py",
   "mimetype": "text/x-python",
   "name": "python",
   "nbconvert_exporter": "python",
   "pygments_lexer": "ipython3",
   "version": "3.11.10"
  }
 },
 "nbformat": 4,
 "nbformat_minor": 2
}
